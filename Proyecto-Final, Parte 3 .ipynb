{
 "cells": [
  {
   "cell_type": "markdown",
   "metadata": {},
   "source": [
    "# Proyecto  Final -  Parte 3"
   ]
  },
  {
   "cell_type": "markdown",
   "metadata": {},
   "source": [
    "### **Parte 3.  Spark Streaming**"
   ]
  },
  {
   "cell_type": "markdown",
   "metadata": {},
   "source": [
    "- 1. [Importación de librerias](#1)\n",
    "- 2. [Pasos previos](#2)\n",
    "- 3. [Análisis electricidad](#3)"
   ]
  },
  {
   "cell_type": "markdown",
   "metadata": {},
   "source": [
    "En esta parte se van a analizar los datos en tiempo real a través de Spark Streaming, los datos son emitidos desde un servidor ofrecido para llevar acabo este proyecto, para llevar a cabo esta parte solamente se van a analizar datos del puerto número 45001 que corresponden con electricidad, para evitar la redundancia "
   ]
  },
  {
   "cell_type": "markdown",
   "metadata": {},
   "source": [
    "<a id=\"1\"></a>\n",
    "### * Se importan las librerias que se van a utilizar*"
   ]
  },
  {
   "cell_type": "code",
   "execution_count": 1,
   "metadata": {},
   "outputs": [],
   "source": [
    "import org.apache.spark._"
   ]
  },
  {
   "cell_type": "code",
   "execution_count": 2,
   "metadata": {},
   "outputs": [],
   "source": [
    "import org.apache.spark.streaming._"
   ]
  },
  {
   "cell_type": "markdown",
   "metadata": {},
   "source": [
    "<a id=\"2\"></a>\n",
    "### * Pasos previos al análisis de los datos* \n",
    "#### *Se crea el objeto StreamingContext indicando que el intervalo entre cada batch es de 30 segundos y se establece el directorio de checkpoint para Apache Spark *."
   ]
  },
  {
   "cell_type": "code",
   "execution_count": 3,
   "metadata": {},
   "outputs": [
    {
     "data": {
      "text/plain": [
       "streamctx = org.apache.spark.streaming.StreamingContext@263a34bb\n"
      ]
     },
     "metadata": {},
     "output_type": "display_data"
    },
    {
     "data": {
      "text/plain": [
       "org.apache.spark.streaming.StreamingContext@263a34bb"
      ]
     },
     "execution_count": 3,
     "metadata": {},
     "output_type": "execute_result"
    }
   ],
   "source": [
    "val streamctx = new StreamingContext(sc, Seconds(30)) "
   ]
  },
  {
   "cell_type": "code",
   "execution_count": 4,
   "metadata": {},
   "outputs": [],
   "source": [
    "streamctx.checkpoint(\"/eoi/streaming/checkpoint\") "
   ]
  },
  {
   "cell_type": "markdown",
   "metadata": {},
   "source": [
    "#### *Se registra la fuente de datos con el correspondiente emisor , en este caso para el puerto indicado va a ser de electricidad*"
   ]
  },
  {
   "cell_type": "code",
   "execution_count": 5,
   "metadata": {},
   "outputs": [
    {
     "data": {
      "text/plain": [
       "elec = org.apache.spark.streaming.dstream.SocketInputDStream@11f642fb\n"
      ]
     },
     "metadata": {},
     "output_type": "display_data"
    },
    {
     "data": {
      "text/plain": [
       "org.apache.spark.streaming.dstream.SocketInputDStream@11f642fb"
      ]
     },
     "execution_count": 5,
     "metadata": {},
     "output_type": "execute_result"
    }
   ],
   "source": [
    "val elec = streamctx.socketTextStream(\"emisor.eoi.rbs-net.com\", 45001) "
   ]
  },
  {
   "cell_type": "markdown",
   "metadata": {},
   "source": [
    "#### *Se lleva a cabo una impresion para comprobar que los datos son recibidos de manera correcta*"
   ]
  },
  {
   "cell_type": "markdown",
   "metadata": {},
   "source": [
    "#### * Se crea un objeto de la clase Electricidad, con un subconjunto de los campos correspondientes a los datos recibidos, porteriormente se realiza un split con ; ya que son emitidos así   y se crea una lista con los valores correspondientes*"
   ]
  },
  {
   "cell_type": "code",
   "execution_count": 6,
   "metadata": {},
   "outputs": [
    {
     "data": {
      "text/plain": [
       "defined class Electricidad\n"
      ]
     },
     "metadata": {},
     "output_type": "display_data"
    }
   ],
   "source": [
    "case class Electricidad(Tipo: String, Consumo: Double, Año: Int, \n",
    "                    Mes: Int, Día: Int, Hora: Int, Minutos: Int)"
   ]
  },
  {
   "cell_type": "code",
   "execution_count": 7,
   "metadata": {},
   "outputs": [
    {
     "data": {
      "text/plain": [
       "dat_elec = org.apache.spark.streaming.dstream.FlatMappedDStream@2b1e1648\n"
      ]
     },
     "metadata": {},
     "output_type": "display_data"
    },
    {
     "data": {
      "text/plain": [
       "org.apache.spark.streaming.dstream.FlatMappedDStream@2b1e1648"
      ]
     },
     "execution_count": 7,
     "metadata": {},
     "output_type": "execute_result"
    }
   ],
   "source": [
    "val dat_elec = elec.flatMap(x => {\n",
    "    val campos = x.split(\";\")  \n",
    "    try {\n",
    "        List(Electricidad(campos(0),campos(1).toDouble,campos(2).toInt,campos(3).toInt, campos(4).toInt, campos(5).toInt,campos(6).toInt))\n",
    "    } catch {\n",
    "        case e : Throwable => {\n",
    "            // Llamada al sistema de notificación en caso de fallo en la entrada.\n",
    "        }\n",
    "        List()\n",
    "    }\n",
    "})"
   ]
  },
  {
   "cell_type": "markdown",
   "metadata": {},
   "source": [
    "<a id=\"3\"></a>\n",
    "### * Análisis electricidad *"
   ]
  },
  {
   "cell_type": "markdown",
   "metadata": {},
   "source": [
    "Se seleccionan los campos que me interesa analizar, 0 y 1 consumo por edificio y se agrupan por la clave, que es edificio"
   ]
  },
  {
   "cell_type": "code",
   "execution_count": 8,
   "metadata": {},
   "outputs": [
    {
     "data": {
      "text/plain": [
       "cons_elec = org.apache.spark.streaming.dstream.ShuffledDStream@72805b06\n"
      ]
     },
     "metadata": {},
     "output_type": "display_data"
    },
    {
     "data": {
      "text/plain": [
       "org.apache.spark.streaming.dstream.ShuffledDStream@72805b06"
      ]
     },
     "execution_count": 8,
     "metadata": {},
     "output_type": "execute_result"
    }
   ],
   "source": [
    "val cons_elec = dat_elec.map(x => (x.Tipo, x.Consumo)).reduceByKey(_ + _)"
   ]
  },
  {
   "cell_type": "markdown",
   "metadata": {},
   "source": [
    "Se crea  la variable resultado_cons_elec que acumulara los consumos por edificio utilizando el método updateStateByKey, el cual permite analizar los datos de entrada teniendo en cuenta el resultado de los anteriores datos de entrada\n"
   ]
  },
  {
   "cell_type": "code",
   "execution_count": 9,
   "metadata": {},
   "outputs": [
    {
     "data": {
      "text/plain": [
       "org.apache.spark.streaming.dstream.StateDStream@437c64c1"
      ]
     },
     "execution_count": 9,
     "metadata": {},
     "output_type": "execute_result"
    },
    {
     "data": {
      "text/plain": [
       "resultado_cons_elec = org.apache.spark.streaming.dstream.StateDStream@437c64c1\n"
      ]
     },
     "metadata": {},
     "output_type": "display_data"
    }
   ],
   "source": [
    "val resultado_cons_elec = cons_elec.updateStateByKey((entrada, estado:Option[Double]) => {\n",
    "                                                   if (estado.isEmpty == true) {\n",
    "                                                       Some(entrada.sum)\n",
    "                                                   } else {\n",
    "                                                       Some(entrada.sum + estado.getOrElse(0.0))\n",
    "                                                   }})"
   ]
  },
  {
   "cell_type": "code",
   "execution_count": 10,
   "metadata": {},
   "outputs": [],
   "source": [
    "resultado_cons_elec.print()"
   ]
  },
  {
   "cell_type": "code",
   "execution_count": 21,
   "metadata": {},
   "outputs": [
    {
     "name": "stdout",
     "output_type": "stream",
     "text": [
      "-------------------------------------------\n",
      "Time: 1580297940000 ms\n",
      "-------------------------------------------\n",
      "(ELEC_EDIF_17_COMEDOR,40.79999999999999)\n",
      "(ELEC_EDIF_18_KIOSCO,12.430000000000001)\n",
      "\n",
      "-------------------------------------------\n",
      "Time: 1580297970000 ms\n",
      "-------------------------------------------\n",
      "(ELEC_EDIF_17_COMEDOR,40.79999999999999)\n",
      "(ELEC_EDIF_18_KIOSCO,134.18699999999993)\n",
      "\n",
      "-------------------------------------------\n",
      "Time: 1580298000000 ms\n",
      "-------------------------------------------\n",
      "(ELEC_EDIF_17_COMEDOR,40.79999999999999)\n",
      "(ELEC_EDIF_18_KIOSCO,143.20899999999992)\n",
      "(ELEC_EDIF_2,353.839)\n",
      "\n",
      "-------------------------------------------\n",
      "Time: 1580298030000 ms\n",
      "-------------------------------------------\n",
      "(ELEC_EDIF_17_COMEDOR,40.79999999999999)\n",
      "(ELEC_EDIF_18_KIOSCO,143.20899999999992)\n",
      "(ELEC_EDIF_20,267.222)\n",
      "(ELEC_EDIF_2,842.952)\n",
      "\n",
      "-------------------------------------------\n",
      "Time: 1580298060000 ms\n",
      "-------------------------------------------\n",
      "(ELEC_EDIF_17_COMEDOR,40.79999999999999)\n",
      "(ELEC_EDIF_18_KIOSCO,143.20899999999992)\n",
      "(ELEC_EDIF_20,3874.0690000000004)\n",
      "(ELEC_EDIF_2,842.952)\n",
      "\n",
      "-------------------------------------------\n",
      "Time: 1580298090000 ms\n",
      "-------------------------------------------\n",
      "(ELEC_EDIF_21,380.99500000000006)\n",
      "(ELEC_EDIF_17_COMEDOR,40.79999999999999)\n",
      "(ELEC_EDIF_18_KIOSCO,143.20899999999992)\n",
      "(ELEC_EDIF_20,4801.990000000001)\n",
      "(ELEC_EDIF_2,842.952)\n",
      "\n",
      "-------------------------------------------\n",
      "Time: 1580298120000 ms\n",
      "-------------------------------------------\n",
      "(ELEC_EDIF_21,1432.7670000000003)\n",
      "(ELEC_EDIF_17_COMEDOR,40.79999999999999)\n",
      "(ELEC_EDIF_18_KIOSCO,143.20899999999992)\n",
      "(ELEC_EDIF_20,4801.990000000001)\n",
      "(ELEC_EDIF_2,842.952)\n",
      "\n",
      "-------------------------------------------\n",
      "Time: 1580298150000 ms\n",
      "-------------------------------------------\n",
      "(ELEC_EDIF_21,1451.4510000000002)\n",
      "(ELEC_EDIF_17_COMEDOR,40.79999999999999)\n",
      "(ELEC_EDIF_3,363.0)\n",
      "(ELEC_EDIF_18_KIOSCO,143.20899999999992)\n",
      "(ELEC_EDIF_20,4801.990000000001)\n",
      "(ELEC_EDIF_2,842.952)\n",
      "\n",
      "-------------------------------------------\n",
      "Time: 1580298180000 ms\n",
      "-------------------------------------------\n",
      "(ELEC_EDIF_21,1451.4510000000002)\n",
      "(ELEC_EDIF_17_COMEDOR,40.79999999999999)\n",
      "(ELEC_EDIF_3,591.113)\n",
      "(ELEC_EDIF_31,9.351999999999999)\n",
      "(ELEC_EDIF_18_KIOSCO,143.20899999999992)\n",
      "(ELEC_EDIF_20,4801.990000000001)\n",
      "(ELEC_EDIF_2,842.952)\n",
      "\n"
     ]
    }
   ],
   "source": [
    "// streamctx.start()"
   ]
  },
  {
   "cell_type": "markdown",
   "metadata": {},
   "source": [
    "### * Se muestran los edificios que más consumos han transmitido*"
   ]
  },
  {
   "cell_type": "code",
   "execution_count": 11,
   "metadata": {},
   "outputs": [
    {
     "data": {
      "text/plain": [
       "resultado_max = org.apache.spark.streaming.dstream.TransformedDStream@242f6065\n"
      ]
     },
     "metadata": {},
     "output_type": "display_data"
    },
    {
     "data": {
      "text/plain": [
       "org.apache.spark.streaming.dstream.TransformedDStream@242f6065"
      ]
     },
     "execution_count": 11,
     "metadata": {},
     "output_type": "execute_result"
    }
   ],
   "source": [
    "val resultado_max = resultado_cons_elec.transform(x => x.sortBy(x => x._2, false))"
   ]
  },
  {
   "cell_type": "code",
   "execution_count": 12,
   "metadata": {},
   "outputs": [],
   "source": [
    "resultado_max.print()"
   ]
  },
  {
   "cell_type": "code",
   "execution_count": 24,
   "metadata": {},
   "outputs": [
    {
     "name": "stdout",
     "output_type": "stream",
     "text": [
      "-------------------------------------------\n",
      "Time: 1580298780000 ms\n",
      "-------------------------------------------\n",
      "(ELEC_UPO,2978.32)\n",
      "\n",
      "-------------------------------------------\n",
      "Time: 1580298810000 ms\n",
      "-------------------------------------------\n",
      "(ELEC_UPO,16352.699000000002)\n",
      "\n",
      "-------------------------------------------\n",
      "Time: 1580298840000 ms\n",
      "-------------------------------------------\n",
      "(ELEC_UPO,16352.699000000002)\n",
      "\n",
      "-------------------------------------------\n",
      "Time: 1580298870000 ms\n",
      "-------------------------------------------\n",
      "(ELEC_UPO,16352.699000000002)\n",
      "\n",
      "-------------------------------------------\n",
      "Time: 1580298900000 ms\n",
      "-------------------------------------------\n",
      "(ELEC_UPO,16352.699000000002)\n",
      "\n",
      "-------------------------------------------\n",
      "Time: 1580298930000 ms\n",
      "-------------------------------------------\n",
      "(ELEC_UPO,16352.699000000002)\n",
      "\n",
      "-------------------------------------------\n",
      "Time: 1580298960000 ms\n",
      "-------------------------------------------\n",
      "(ELEC_UPO,16352.699000000002)\n",
      "\n",
      "-------------------------------------------\n",
      "Time: 1580298990000 ms\n",
      "-------------------------------------------\n",
      "(ELEC_UPO,16352.699000000002)\n",
      "\n",
      "-------------------------------------------\n",
      "Time: 1580299020000 ms\n",
      "-------------------------------------------\n",
      "(ELEC_UPO,16352.699000000002)\n",
      "\n",
      "-------------------------------------------\n",
      "Time: 1580299050000 ms\n",
      "-------------------------------------------\n",
      "(ELEC_UPO,16352.699000000002)\n",
      "\n",
      "-------------------------------------------\n",
      "Time: 1580299080000 ms\n",
      "-------------------------------------------\n",
      "(ELEC_UPO,16352.699000000002)\n",
      "\n",
      "-------------------------------------------\n",
      "Time: 1580299110000 ms\n",
      "-------------------------------------------\n",
      "(ELEC_UPO,16352.699000000002)\n",
      "\n",
      "-------------------------------------------\n",
      "Time: 1580299140000 ms\n",
      "-------------------------------------------\n",
      "(ELEC_UPO,16352.699000000002)\n",
      "\n",
      "-------------------------------------------\n",
      "Time: 1580299170000 ms\n",
      "-------------------------------------------\n",
      "(ELEC_UPO,16352.699000000002)\n",
      "\n",
      "-------------------------------------------\n",
      "Time: 1580299200000 ms\n",
      "-------------------------------------------\n",
      "(ELEC_UPO,16352.699000000002)\n",
      "\n",
      "-------------------------------------------\n",
      "Time: 1580299230000 ms\n",
      "-------------------------------------------\n",
      "(ELEC_UPO,16352.699000000002)\n",
      "(ELEC_EDIF_1,395.336)\n",
      "(﻿ELEC_EDIF_1,2.796)\n",
      "\n",
      "-------------------------------------------\n",
      "Time: 1580299260000 ms\n",
      "-------------------------------------------\n",
      "(ELEC_UPO,16352.699000000002)\n",
      "(ELEC_EDIF_1,584.486)\n",
      "(ELEC_EDIF_1_CAFETERI,64.551)\n",
      "(﻿ELEC_EDIF_1,2.796)\n",
      "\n",
      "-------------------------------------------\n",
      "Time: 1580299290000 ms\n",
      "-------------------------------------------\n",
      "(ELEC_UPO,16352.699000000002)\n",
      "(ELEC_EDIF_1,584.486)\n",
      "(ELEC_EDIF_1_CAFETERI,499.4479999999999)\n",
      "(﻿ELEC_EDIF_1,2.796)\n",
      "\n"
     ]
    }
   ],
   "source": [
    "//streamctx.start()"
   ]
  },
  {
   "cell_type": "markdown",
   "metadata": {},
   "source": [
    "### * Se muestra el número de medidas producidas en el ultimo mínumo con desplazamiento de 30 segundos*"
   ]
  },
  {
   "cell_type": "code",
   "execution_count": 13,
   "metadata": {},
   "outputs": [
    {
     "data": {
      "text/plain": [
       "min_3_consum = org.apache.spark.streaming.dstream.ShuffledDStream@575f24e0\n"
      ]
     },
     "metadata": {},
     "output_type": "display_data"
    },
    {
     "data": {
      "text/plain": [
       "org.apache.spark.streaming.dstream.ShuffledDStream@575f24e0"
      ]
     },
     "execution_count": 13,
     "metadata": {},
     "output_type": "execute_result"
    }
   ],
   "source": [
    "val min_3_consum = cons_elec.reduceByKeyAndWindow((a:Double, b:Double) => a + b, Seconds(60), Seconds(30))"
   ]
  },
  {
   "cell_type": "code",
   "execution_count": 14,
   "metadata": {},
   "outputs": [],
   "source": [
    "min_3_consum.print()"
   ]
  },
  {
   "cell_type": "code",
   "execution_count": 18,
   "metadata": {},
   "outputs": [
    {
     "name": "stdout",
     "output_type": "stream",
     "text": [
      "-------------------------------------------\n",
      "Time: 1580302410000 ms\n",
      "-------------------------------------------\n",
      "\n",
      "-------------------------------------------\n",
      "Time: 1580302410000 ms\n",
      "-------------------------------------------\n",
      "\n",
      "-------------------------------------------\n",
      "Time: 1580302410000 ms\n",
      "-------------------------------------------\n",
      "\n",
      "-------------------------------------------\n",
      "Time: 1580302410000 ms\n",
      "-------------------------------------------\n",
      "\n",
      "-------------------------------------------\n",
      "Time: 1580302440000 ms\n",
      "-------------------------------------------\n",
      "\n",
      "-------------------------------------------\n",
      "Time: 1580302440000 ms\n",
      "-------------------------------------------\n",
      "\n",
      "-------------------------------------------\n",
      "Time: 1580302440000 ms\n",
      "-------------------------------------------\n",
      "\n",
      "-------------------------------------------\n",
      "Time: 1580302440000 ms\n",
      "-------------------------------------------\n",
      "\n",
      "-------------------------------------------\n",
      "Time: 1580302470000 ms\n",
      "-------------------------------------------\n",
      "\n",
      "-------------------------------------------\n",
      "Time: 1580302470000 ms\n",
      "-------------------------------------------\n",
      "\n",
      "-------------------------------------------\n",
      "Time: 1580302470000 ms\n",
      "-------------------------------------------\n",
      "\n",
      "-------------------------------------------\n",
      "Time: 1580302470000 ms\n",
      "-------------------------------------------\n",
      "\n",
      "-------------------------------------------\n",
      "Time: 1580302500000 ms\n",
      "-------------------------------------------\n",
      "\n",
      "-------------------------------------------\n",
      "Time: 1580302500000 ms\n",
      "-------------------------------------------\n",
      "\n",
      "-------------------------------------------\n",
      "Time: 1580302500000 ms\n",
      "-------------------------------------------\n",
      "\n",
      "-------------------------------------------\n",
      "Time: 1580302500000 ms\n",
      "-------------------------------------------\n",
      "\n",
      "-------------------------------------------\n",
      "Time: 1580302530000 ms\n",
      "-------------------------------------------\n",
      "\n",
      "-------------------------------------------\n",
      "Time: 1580302530000 ms\n",
      "-------------------------------------------\n",
      "\n",
      "-------------------------------------------\n",
      "Time: 1580302530000 ms\n",
      "-------------------------------------------\n",
      "\n",
      "-------------------------------------------\n",
      "Time: 1580302530000 ms\n",
      "-------------------------------------------\n",
      "\n",
      "-------------------------------------------\n",
      "Time: 1580302560000 ms\n",
      "-------------------------------------------\n",
      "\n",
      "-------------------------------------------\n",
      "Time: 1580302560000 ms\n",
      "-------------------------------------------\n",
      "\n",
      "-------------------------------------------\n",
      "Time: 1580302560000 ms\n",
      "-------------------------------------------\n",
      "\n",
      "-------------------------------------------\n",
      "Time: 1580302560000 ms\n",
      "-------------------------------------------\n",
      "\n",
      "-------------------------------------------\n",
      "Time: 1580302590000 ms\n",
      "-------------------------------------------\n",
      "\n",
      "-------------------------------------------\n",
      "Time: 1580302590000 ms\n",
      "-------------------------------------------\n",
      "\n",
      "-------------------------------------------\n",
      "Time: 1580302590000 ms\n",
      "-------------------------------------------\n",
      "\n",
      "-------------------------------------------\n",
      "Time: 1580302590000 ms\n",
      "-------------------------------------------\n",
      "\n",
      "-------------------------------------------\n",
      "Time: 1580302620000 ms\n",
      "-------------------------------------------\n",
      "\n",
      "-------------------------------------------\n",
      "Time: 1580302620000 ms\n",
      "-------------------------------------------\n",
      "\n",
      "-------------------------------------------\n",
      "Time: 1580302620000 ms\n",
      "-------------------------------------------\n",
      "\n",
      "-------------------------------------------\n",
      "Time: 1580302620000 ms\n",
      "-------------------------------------------\n",
      "\n",
      "-------------------------------------------\n",
      "Time: 1580302650000 ms\n",
      "-------------------------------------------\n",
      "\n",
      "-------------------------------------------\n",
      "Time: 1580302650000 ms\n",
      "-------------------------------------------\n",
      "\n",
      "-------------------------------------------\n",
      "Time: 1580302650000 ms\n",
      "-------------------------------------------\n",
      "\n",
      "-------------------------------------------\n",
      "Time: 1580302650000 ms\n",
      "-------------------------------------------\n",
      "\n",
      "-------------------------------------------\n",
      "Time: 1580302680000 ms\n",
      "-------------------------------------------\n",
      "\n",
      "-------------------------------------------\n",
      "Time: 1580302680000 ms\n",
      "-------------------------------------------\n",
      "\n",
      "-------------------------------------------\n",
      "Time: 1580302680000 ms\n",
      "-------------------------------------------\n",
      "\n",
      "-------------------------------------------\n",
      "Time: 1580302680000 ms\n",
      "-------------------------------------------\n",
      "\n",
      "-------------------------------------------\n",
      "Time: 1580302710000 ms\n",
      "-------------------------------------------\n",
      "\n",
      "-------------------------------------------\n",
      "Time: 1580302710000 ms\n",
      "-------------------------------------------\n",
      "\n",
      "-------------------------------------------\n",
      "Time: 1580302710000 ms\n",
      "-------------------------------------------\n",
      "\n",
      "-------------------------------------------\n",
      "Time: 1580302710000 ms\n",
      "-------------------------------------------\n",
      "\n",
      "-------------------------------------------\n",
      "Time: 1580302740000 ms\n",
      "-------------------------------------------\n",
      "\n",
      "-------------------------------------------\n",
      "Time: 1580302740000 ms\n",
      "-------------------------------------------\n",
      "\n",
      "-------------------------------------------\n",
      "Time: 1580302740000 ms\n",
      "-------------------------------------------\n",
      "\n",
      "-------------------------------------------\n",
      "Time: 1580302740000 ms\n",
      "-------------------------------------------\n",
      "\n",
      "-------------------------------------------\n",
      "Time: 1580302770000 ms\n",
      "-------------------------------------------\n",
      "\n",
      "-------------------------------------------\n",
      "Time: 1580302770000 ms\n",
      "-------------------------------------------\n",
      "\n",
      "-------------------------------------------\n",
      "Time: 1580302770000 ms\n",
      "-------------------------------------------\n",
      "\n",
      "-------------------------------------------\n",
      "Time: 1580302770000 ms\n",
      "-------------------------------------------\n",
      "\n",
      "-------------------------------------------\n",
      "Time: 1580302800000 ms\n",
      "-------------------------------------------\n",
      "\n",
      "-------------------------------------------\n",
      "Time: 1580302800000 ms\n",
      "-------------------------------------------\n",
      "\n",
      "-------------------------------------------\n",
      "Time: 1580302800000 ms\n",
      "-------------------------------------------\n",
      "\n",
      "-------------------------------------------\n",
      "Time: 1580302800000 ms\n",
      "-------------------------------------------\n",
      "\n",
      "-------------------------------------------\n",
      "Time: 1580302830000 ms\n",
      "-------------------------------------------\n",
      "Electricidad(﻿ELEC_EDIF_1,2.796,2013,10,15,0,0)\n",
      "Electricidad(ELEC_EDIF_1,3.208,2013,10,15,0,15)\n",
      "Electricidad(ELEC_EDIF_1,2.782,2013,10,15,0,30)\n",
      "Electricidad(ELEC_EDIF_1,2.69,2013,10,15,0,45)\n",
      "Electricidad(ELEC_EDIF_1,3.072,2013,10,15,1,0)\n",
      "Electricidad(ELEC_EDIF_1,3.0,2013,10,15,1,15)\n",
      "Electricidad(ELEC_EDIF_1,3.22,2013,10,15,1,30)\n",
      "Electricidad(ELEC_EDIF_1,2.764,2013,10,15,1,45)\n",
      "Electricidad(ELEC_EDIF_1,2.848,2013,10,15,2,0)\n",
      "Electricidad(ELEC_EDIF_1,2.74,2013,10,15,2,15)\n",
      "Electricidad(ELEC_EDIF_1,2.733,2013,10,15,2,30)\n",
      "Electricidad(ELEC_EDIF_1,2.805,2013,10,15,2,45)\n",
      "Electricidad(ELEC_EDIF_1,2.714,2013,10,15,3,0)\n",
      "Electricidad(ELEC_EDIF_1,2.792,2013,10,15,3,15)\n",
      "Electricidad(ELEC_EDIF_1,2.565,2013,10,15,3,30)\n",
      "Electricidad(ELEC_EDIF_1,3.195,2013,10,15,3,45)\n",
      "Electricidad(ELEC_EDIF_1,4.587,2013,10,15,4,0)\n",
      "Electricidad(ELEC_EDIF_1,4.223,2013,10,15,4,15)\n",
      "Electricidad(ELEC_EDIF_1,4.19,2013,10,15,4,30)\n",
      "Electricidad(ELEC_EDIF_1,4.306,2013,10,15,4,45)\n",
      "Electricidad(ELEC_EDIF_1,4.227,2013,10,15,5,0)\n",
      "Electricidad(ELEC_EDIF_1,4.495,2013,10,15,5,15)\n",
      "Electricidad(ELEC_EDIF_1,7.464,2013,10,15,5,30)\n",
      "Electricidad(ELEC_EDIF_1,7.862,2013,10,15,5,45)\n",
      "Electricidad(ELEC_EDIF_1,7.804,2013,10,15,6,0)\n",
      "Electricidad(ELEC_EDIF_1,7.876,2013,10,15,6,15)\n",
      "Electricidad(ELEC_EDIF_1,9.239,2013,10,15,6,30)\n",
      "Electricidad(ELEC_EDIF_1,7.954,2013,10,15,6,45)\n",
      "Electricidad(ELEC_EDIF_1,8.497,2013,10,15,7,0)\n",
      "Electricidad(ELEC_EDIF_1,8.988,2013,10,15,7,15)\n",
      "...\n",
      "\n",
      "-------------------------------------------\n",
      "Time: 1580302830000 ms\n",
      "-------------------------------------------\n",
      "(﻿ELEC_EDIF_1,2.796)\n",
      "(ELEC_EDIF_1,395.336)\n",
      "\n",
      "-------------------------------------------\n",
      "Time: 1580302830000 ms\n",
      "-------------------------------------------\n",
      "(ELEC_EDIF_1,395.336)\n",
      "(﻿ELEC_EDIF_1,2.796)\n",
      "\n",
      "-------------------------------------------\n",
      "Time: 1580302830000 ms\n",
      "-------------------------------------------\n",
      "(﻿ELEC_EDIF_1,2.796)\n",
      "(ELEC_EDIF_1,395.336)\n",
      "\n"
     ]
    },
    {
     "name": "stdout",
     "output_type": "stream",
     "text": [
      "-------------------------------------------\n",
      "Time: 1580302860000 ms\n",
      "-------------------------------------------\n",
      "Electricidad(ELEC_EDIF_1,8.322,2013,10,15,15,0)\n",
      "Electricidad(ELEC_EDIF_1,7.272,2013,10,15,15,15)\n",
      "Electricidad(ELEC_EDIF_1,7.229,2013,10,15,15,30)\n",
      "Electricidad(ELEC_EDIF_1,6.875,2013,10,15,15,45)\n",
      "Electricidad(ELEC_EDIF_1,7.206,2013,10,15,16,0)\n",
      "Electricidad(ELEC_EDIF_1,7.389,2013,10,15,16,15)\n",
      "Electricidad(ELEC_EDIF_1,6.912,2013,10,15,16,30)\n",
      "Electricidad(ELEC_EDIF_1,7.417,2013,10,15,16,45)\n",
      "Electricidad(ELEC_EDIF_1,7.428,2013,10,15,17,0)\n",
      "Electricidad(ELEC_EDIF_1,7.683,2013,10,15,17,15)\n",
      "Electricidad(ELEC_EDIF_1,6.712,2013,10,15,17,30)\n",
      "Electricidad(ELEC_EDIF_1,8.524,2013,10,15,17,45)\n",
      "Electricidad(ELEC_EDIF_1,8.584,2013,10,15,18,0)\n",
      "Electricidad(ELEC_EDIF_1,8.765,2013,10,15,18,15)\n",
      "Electricidad(ELEC_EDIF_1,8.465,2013,10,15,18,30)\n",
      "Electricidad(ELEC_EDIF_1,8.621,2013,10,15,18,45)\n",
      "Electricidad(ELEC_EDIF_1,4.902,2013,10,15,19,0)\n",
      "Electricidad(ELEC_EDIF_1,4.51,2013,10,15,19,15)\n",
      "Electricidad(ELEC_EDIF_1,4.124,2013,10,15,19,30)\n",
      "Electricidad(ELEC_EDIF_1,4.042,2013,10,15,19,45)\n",
      "Electricidad(ELEC_EDIF_1,4.311,2013,10,15,20,0)\n",
      "Electricidad(ELEC_EDIF_1,4.098,2013,10,15,20,15)\n",
      "Electricidad(ELEC_EDIF_1,3.805,2013,10,15,20,30)\n",
      "Electricidad(ELEC_EDIF_1,3.733,2013,10,15,20,45)\n",
      "Electricidad(ELEC_EDIF_1,4.241,2013,10,15,21,0)\n",
      "Electricidad(ELEC_EDIF_1,3.903,2013,10,15,21,15)\n",
      "Electricidad(ELEC_EDIF_1,2.388,2013,10,15,21,30)\n",
      "Electricidad(ELEC_EDIF_1,2.639,2013,10,15,21,45)\n",
      "Electricidad(ELEC_EDIF_1,2.365,2013,10,15,22,0)\n",
      "Electricidad(ELEC_EDIF_1,2.521,2013,10,15,22,15)\n",
      "...\n",
      "\n",
      "-------------------------------------------\n",
      "Time: 1580302860000 ms\n",
      "-------------------------------------------\n",
      "(ELEC_EDIF_1_CAFETERI,64.551)\n",
      "(﻿ELEC_EDIF_1,2.796)\n",
      "(ELEC_EDIF_1,584.486)\n",
      "\n",
      "-------------------------------------------\n",
      "Time: 1580302860000 ms\n",
      "-------------------------------------------\n",
      "(ELEC_EDIF_1,584.486)\n",
      "(ELEC_EDIF_1_CAFETERI,64.551)\n",
      "(﻿ELEC_EDIF_1,2.796)\n",
      "\n",
      "-------------------------------------------\n",
      "Time: 1580302860000 ms\n",
      "-------------------------------------------\n",
      "(ELEC_EDIF_1_CAFETERI,64.551)\n",
      "(﻿ELEC_EDIF_1,2.796)\n",
      "(ELEC_EDIF_1,584.486)\n",
      "\n",
      "-------------------------------------------\n",
      "Time: 1580302890000 ms\n",
      "-------------------------------------------\n",
      "Electricidad(ELEC_EDIF_1_CAFETERI,5.87,2013,10,15,6,0)\n",
      "Electricidad(ELEC_EDIF_1_CAFETERI,5.85,2013,10,15,6,15)\n",
      "Electricidad(ELEC_EDIF_1_CAFETERI,8.512,2013,10,15,6,30)\n",
      "Electricidad(ELEC_EDIF_1_CAFETERI,7.954,2013,10,15,6,45)\n",
      "Electricidad(ELEC_EDIF_1_CAFETERI,8.497,2013,10,15,7,0)\n",
      "Electricidad(ELEC_EDIF_1_CAFETERI,8.988,2013,10,15,7,15)\n",
      "Electricidad(ELEC_EDIF_1_CAFETERI,9.217,2013,10,15,7,30)\n",
      "Electricidad(ELEC_EDIF_1_CAFETERI,8.808,2013,10,15,7,45)\n",
      "Electricidad(ELEC_EDIF_1_CAFETERI,9.095,2013,10,15,8,0)\n",
      "Electricidad(ELEC_EDIF_1_CAFETERI,10.184,2013,10,15,8,15)\n",
      "Electricidad(ELEC_EDIF_1_CAFETERI,8.731,2013,10,15,8,30)\n",
      "Electricidad(ELEC_EDIF_1_CAFETERI,9.03,2013,10,15,8,45)\n",
      "Electricidad(ELEC_EDIF_1_CAFETERI,8.154,2013,10,15,9,0)\n",
      "Electricidad(ELEC_EDIF_1_CAFETERI,7.821,2013,10,15,9,15)\n",
      "Electricidad(ELEC_EDIF_1_CAFETERI,7.818,2013,10,15,9,30)\n",
      "Electricidad(ELEC_EDIF_1_CAFETERI,8.424,2013,10,15,9,45)\n",
      "Electricidad(ELEC_EDIF_1_CAFETERI,8.71,2013,10,15,10,0)\n",
      "Electricidad(ELEC_EDIF_1_CAFETERI,8.881,2013,10,15,10,15)\n",
      "Electricidad(ELEC_EDIF_1_CAFETERI,8.297,2013,10,15,10,30)\n",
      "Electricidad(ELEC_EDIF_1_CAFETERI,8.661,2013,10,15,10,45)\n",
      "Electricidad(ELEC_EDIF_1_CAFETERI,8.463,2013,10,15,11,0)\n",
      "Electricidad(ELEC_EDIF_1_CAFETERI,8.288,2013,10,15,11,15)\n",
      "Electricidad(ELEC_EDIF_1_CAFETERI,8.185,2013,10,15,11,30)\n",
      "Electricidad(ELEC_EDIF_1_CAFETERI,8.395,2013,10,15,11,45)\n",
      "Electricidad(ELEC_EDIF_1_CAFETERI,8.309,2013,10,15,12,0)\n",
      "Electricidad(ELEC_EDIF_1_CAFETERI,8.825,2013,10,15,12,15)\n",
      "Electricidad(ELEC_EDIF_1_CAFETERI,9.607,2013,10,15,12,30)\n",
      "Electricidad(ELEC_EDIF_1_CAFETERI,9.159,2013,10,15,12,45)\n",
      "Electricidad(ELEC_EDIF_1_CAFETERI,8.831,2013,10,15,13,0)\n",
      "Electricidad(ELEC_EDIF_1_CAFETERI,9.273,2013,10,15,13,15)\n",
      "...\n",
      "\n",
      "-------------------------------------------\n",
      "Time: 1580302890000 ms\n",
      "-------------------------------------------\n",
      "(ELEC_EDIF_1_CAFETERI,499.4479999999999)\n",
      "(﻿ELEC_EDIF_1,2.796)\n",
      "(ELEC_EDIF_1,584.486)\n",
      "\n",
      "-------------------------------------------\n",
      "Time: 1580302890000 ms\n",
      "-------------------------------------------\n",
      "(ELEC_EDIF_1,584.486)\n",
      "(ELEC_EDIF_1_CAFETERI,499.4479999999999)\n",
      "(﻿ELEC_EDIF_1,2.796)\n",
      "\n",
      "-------------------------------------------\n",
      "Time: 1580302890000 ms\n",
      "-------------------------------------------\n",
      "(ELEC_EDIF_1_CAFETERI,499.4479999999999)\n",
      "(ELEC_EDIF_1,189.15)\n",
      "\n"
     ]
    }
   ],
   "source": [
    "// streamctx.start()"
   ]
  },
  {
   "cell_type": "markdown",
   "metadata": {},
   "source": [
    "### *Análisis en Streaming*\n",
    "\n",
    "En cada batch se mostrará\n",
    "- Acumulación los consumos por edificio\n",
    "- Los edificios que más consumos han transmitido\n",
    "- Número de medidas producidas en el ultimo mínumo con desplazamiento de 30 segundos"
   ]
  },
  {
   "cell_type": "code",
   "execution_count": 15,
   "metadata": {},
   "outputs": [
    {
     "name": "stdout",
     "output_type": "stream",
     "text": [
      "-------------------------------------------\n",
      "Time: 1580303130000 ms\n",
      "-------------------------------------------\n",
      "(ELEC_EDIF_14,564.233)\n",
      "\n",
      "-------------------------------------------\n",
      "Time: 1580303130000 ms\n",
      "-------------------------------------------\n",
      "(ELEC_EDIF_14,564.233)\n",
      "\n",
      "-------------------------------------------\n",
      "Time: 1580303130000 ms\n",
      "-------------------------------------------\n",
      "(ELEC_EDIF_14,564.233)\n",
      "\n",
      "-------------------------------------------\n",
      "Time: 1580303160000 ms\n",
      "-------------------------------------------\n",
      "(ELEC_EDIF_15,303.429)\n",
      "(ELEC_EDIF_14,582.5749999999999)\n",
      "\n",
      "-------------------------------------------\n",
      "Time: 1580303160000 ms\n",
      "-------------------------------------------\n",
      "(ELEC_EDIF_14,582.5749999999999)\n",
      "(ELEC_EDIF_15,303.429)\n",
      "\n",
      "-------------------------------------------\n",
      "Time: 1580303160000 ms\n",
      "-------------------------------------------\n",
      "(ELEC_EDIF_15,303.429)\n",
      "(ELEC_EDIF_14,582.5749999999999)\n",
      "\n",
      "-------------------------------------------\n",
      "Time: 1580303190000 ms\n",
      "-------------------------------------------\n",
      "(ELEC_EDIF_15,902.593)\n",
      "(ELEC_EDIF_16,0.0)\n",
      "(ELEC_EDIF_14,582.5749999999999)\n",
      "\n",
      "-------------------------------------------\n",
      "Time: 1580303190000 ms\n",
      "-------------------------------------------\n",
      "(ELEC_EDIF_15,902.593)\n",
      "(ELEC_EDIF_14,582.5749999999999)\n",
      "(ELEC_EDIF_16,0.0)\n",
      "\n",
      "-------------------------------------------\n",
      "Time: 1580303190000 ms\n",
      "-------------------------------------------\n",
      "(ELEC_EDIF_15,902.593)\n",
      "(ELEC_EDIF_16,0.0)\n",
      "(ELEC_EDIF_14,18.342000000000002)\n",
      "\n",
      "-------------------------------------------\n",
      "Time: 1580303220000 ms\n",
      "-------------------------------------------\n",
      "(ELEC_EDIF_15,902.593)\n",
      "(ELEC_EDIF_16,22.809999999999995)\n",
      "(ELEC_EDIF_14,582.5749999999999)\n",
      "\n",
      "-------------------------------------------\n",
      "Time: 1580303220000 ms\n",
      "-------------------------------------------\n",
      "(ELEC_EDIF_15,902.593)\n",
      "(ELEC_EDIF_14,582.5749999999999)\n",
      "(ELEC_EDIF_16,22.809999999999995)\n",
      "\n",
      "-------------------------------------------\n",
      "Time: 1580303220000 ms\n",
      "-------------------------------------------\n",
      "(ELEC_EDIF_15,599.164)\n",
      "(ELEC_EDIF_16,22.809999999999995)\n",
      "\n",
      "-------------------------------------------\n",
      "Time: 1580303250000 ms\n",
      "-------------------------------------------\n",
      "(ELEC_EDIF_15,902.593)\n",
      "(ELEC_EDIF_16,26.863999999999994)\n",
      "(ELEC_EDIF_17,177.323)\n",
      "(ELEC_EDIF_14,582.5749999999999)\n",
      "\n",
      "-------------------------------------------\n",
      "Time: 1580303250000 ms\n",
      "-------------------------------------------\n",
      "(ELEC_EDIF_15,902.593)\n",
      "(ELEC_EDIF_14,582.5749999999999)\n",
      "(ELEC_EDIF_17,177.323)\n",
      "(ELEC_EDIF_16,26.863999999999994)\n",
      "\n",
      "-------------------------------------------\n",
      "Time: 1580303250000 ms\n",
      "-------------------------------------------\n",
      "(ELEC_EDIF_16,26.863999999999994)\n",
      "(ELEC_EDIF_17,177.323)\n",
      "\n",
      "-------------------------------------------\n",
      "Time: 1580303280000 ms\n",
      "-------------------------------------------\n",
      "(ELEC_EDIF_15,902.593)\n",
      "(ELEC_EDIF_16,26.863999999999994)\n",
      "(ELEC_EDIF_17,634.2930000000001)\n",
      "(ELEC_EDIF_14,582.5749999999999)\n",
      "\n",
      "-------------------------------------------\n",
      "Time: 1580303280000 ms\n",
      "-------------------------------------------\n",
      "(ELEC_EDIF_15,902.593)\n",
      "(ELEC_EDIF_17,634.2930000000001)\n",
      "(ELEC_EDIF_14,582.5749999999999)\n",
      "(ELEC_EDIF_16,26.863999999999994)\n",
      "\n",
      "-------------------------------------------\n",
      "Time: 1580303280000 ms\n",
      "-------------------------------------------\n",
      "(ELEC_EDIF_16,4.053999999999999)\n",
      "(ELEC_EDIF_17,634.2930000000001)\n",
      "\n",
      "-------------------------------------------\n",
      "Time: 1580303310000 ms\n",
      "-------------------------------------------\n",
      "(ELEC_EDIF_15,902.593)\n",
      "(ELEC_EDIF_17_COMEDOR,196.59400000000002)\n",
      "(ELEC_EDIF_16,26.863999999999994)\n",
      "(ELEC_EDIF_17,640.8980000000001)\n",
      "(ELEC_EDIF_14,582.5749999999999)\n",
      "\n",
      "-------------------------------------------\n",
      "Time: 1580303310000 ms\n",
      "-------------------------------------------\n",
      "(ELEC_EDIF_15,902.593)\n",
      "(ELEC_EDIF_17,640.8980000000001)\n",
      "(ELEC_EDIF_14,582.5749999999999)\n",
      "(ELEC_EDIF_17_COMEDOR,196.59400000000002)\n",
      "(ELEC_EDIF_16,26.863999999999994)\n",
      "\n",
      "-------------------------------------------\n",
      "Time: 1580303310000 ms\n",
      "-------------------------------------------\n",
      "(ELEC_EDIF_17_COMEDOR,196.59400000000002)\n",
      "(ELEC_EDIF_17,463.5750000000001)\n",
      "\n",
      "-------------------------------------------\n",
      "Time: 1580303340000 ms\n",
      "-------------------------------------------\n",
      "(ELEC_EDIF_15,902.593)\n",
      "(ELEC_EDIF_17_COMEDOR,276.48900000000003)\n",
      "(ELEC_EDIF_16,26.863999999999994)\n",
      "(ELEC_EDIF_18_KIOSCO,12.430000000000001)\n",
      "(ELEC_EDIF_17,640.8980000000001)\n",
      "(ELEC_EDIF_14,582.5749999999999)\n",
      "\n",
      "-------------------------------------------\n",
      "Time: 1580303340000 ms\n",
      "-------------------------------------------\n",
      "(ELEC_EDIF_15,902.593)\n",
      "(ELEC_EDIF_17,640.8980000000001)\n",
      "(ELEC_EDIF_14,582.5749999999999)\n",
      "(ELEC_EDIF_17_COMEDOR,276.48900000000003)\n",
      "(ELEC_EDIF_16,26.863999999999994)\n",
      "(ELEC_EDIF_18_KIOSCO,12.430000000000001)\n",
      "\n",
      "-------------------------------------------\n",
      "Time: 1580303340000 ms\n",
      "-------------------------------------------\n",
      "(ELEC_EDIF_17_COMEDOR,276.48900000000003)\n",
      "(ELEC_EDIF_18_KIOSCO,12.430000000000001)\n",
      "(ELEC_EDIF_17,6.605)\n",
      "\n"
     ]
    }
   ],
   "source": [
    "streamctx.start()"
   ]
  },
  {
   "cell_type": "markdown",
   "metadata": {},
   "source": [
    "Para parar el proceso"
   ]
  },
  {
   "cell_type": "code",
   "execution_count": 16,
   "metadata": {},
   "outputs": [
    {
     "name": "stdout",
     "output_type": "stream",
     "text": [
      "Exception in thread \"receiver-supervisor-future-0\" java.lang.Error: java.lang.InterruptedException: sleep interrupted\n",
      "\tat java.util.concurrent.ThreadPoolExecutor.runWorker(ThreadPoolExecutor.java:1155)\n",
      "\tat java.util.concurrent.ThreadPoolExecutor$Worker.run(ThreadPoolExecutor.java:624)\n",
      "\tat java.lang.Thread.run(Thread.java:748)\n",
      "Caused by: java.lang.InterruptedException: sleep interrupted\n",
      "\tat java.lang.Thread.sleep(Native Method)\n",
      "\tat org.apache.spark.streaming.receiver.ReceiverSupervisor$$anonfun$restartReceiver$1.apply$mcV$sp(ReceiverSupervisor.scala:196)\n",
      "\tat org.apache.spark.streaming.receiver.ReceiverSupervisor$$anonfun$restartReceiver$1.apply(ReceiverSupervisor.scala:189)\n",
      "\tat org.apache.spark.streaming.receiver.ReceiverSupervisor$$anonfun$restartReceiver$1.apply(ReceiverSupervisor.scala:189)\n",
      "\tat scala.concurrent.impl.Future$PromiseCompletingRunnable.liftedTree1$1(Future.scala:24)\n",
      "\tat scala.concurrent.impl.Future$PromiseCompletingRunnable.run(Future.scala:24)\n",
      "\tat java.util.concurrent.ThreadPoolExecutor.runWorker(ThreadPoolExecutor.java:1149)\n",
      "\t... 2 more\n"
     ]
    }
   ],
   "source": [
    "streamctx.stop()"
   ]
  }
 ],
 "metadata": {
  "kernelspec": {
   "display_name": "Spark - Scala",
   "language": "scala",
   "name": "spark_scala"
  },
  "language_info": {
   "codemirror_mode": "text/x-scala",
   "file_extension": ".scala",
   "mimetype": "text/x-scala",
   "name": "scala",
   "pygments_lexer": "scala",
   "version": "2.11.8"
  }
 },
 "nbformat": 4,
 "nbformat_minor": 2
}
