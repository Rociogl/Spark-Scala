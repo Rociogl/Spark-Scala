{
 "cells": [
  {
   "cell_type": "markdown",
   "metadata": {},
   "source": [
    "<font style =\"black\" color =\"#23BAC4\" size = \"12\" > Proyecto  Final -  Parte 1</font>"
   ]
  },
  {
   "cell_type": "markdown",
   "metadata": {},
   "source": [
    "### **Parte 1.  Spark Core**"
   ]
  },
  {
   "cell_type": "markdown",
   "metadata": {},
   "source": [
    "- 1. [Carga y preparación de los tres diferentes csv proporcionados](#1)\n",
    "    - 1.1 [Datos ficticios](#1.1)\n",
    "    - 1.3 [Datos agua](#1.2)\n",
    "    - 1.3 [Datos electricidad](#1.3)\n",
    "- 2. [Estadísticas](#2)\n",
    "    - 2.1 [Datos agua](#2.1)\n",
    "    - 2.2 [Datos electricidad](#2.2)\n",
    "    - 2.3 [Datos ficticios ](#2.3)\n",
    "            "
   ]
  },
  {
   "cell_type": "markdown",
   "metadata": {},
   "source": [
    "#### * En esta primera parte se va a llevar a cabo un análisis exploratorio de los 3 csv aportados, en el que se calculan diferentes estadísticas *"
   ]
  },
  {
   "cell_type": "markdown",
   "metadata": {},
   "source": [
    "<a id=\"1\"></a>\n",
    "### * 1. Carga y preparación de los tres diferentes csv proporcionados *\n"
   ]
  },
  {
   "cell_type": "code",
   "execution_count": 1,
   "metadata": {},
   "outputs": [
    {
     "data": {
      "text/plain": [
       "Datos_ficticios = hdfs:///eoi/Proyecto-Final/Datos_ficticios.csv MapPartitionsRDD[44] at textFile at <console>:27\n"
      ]
     },
     "metadata": {},
     "output_type": "display_data"
    },
    {
     "data": {
      "text/plain": [
       "hdfs:///eoi/Proyecto-Final/Datos_ficticios.csv MapPartitionsRDD[44] at textFile at <console>:27"
      ]
     },
     "execution_count": 1,
     "metadata": {},
     "output_type": "execute_result"
    }
   ],
   "source": [
    "val Datos_ficticios = sc.textFile(\"hdfs:///eoi/Proyecto-Final/Datos_ficticios.csv\")"
   ]
  },
  {
   "cell_type": "code",
   "execution_count": 2,
   "metadata": {},
   "outputs": [
    {
     "data": {
      "text/plain": [
       "30"
      ]
     },
     "execution_count": 2,
     "metadata": {},
     "output_type": "execute_result"
    }
   ],
   "source": [
    "Datos_ficticios.count"
   ]
  },
  {
   "cell_type": "markdown",
   "metadata": {},
   "source": [
    "Se observa como el nº elementos que contiene dicho rdd es 30"
   ]
  },
  {
   "cell_type": "code",
   "execution_count": 3,
   "metadata": {},
   "outputs": [
    {
     "data": {
      "text/plain": [
       "Datos_agua = hdfs:///eoi/Proyecto-Final/2013agua.csv MapPartitionsRDD[46] at textFile at <console>:27\n"
      ]
     },
     "metadata": {},
     "output_type": "display_data"
    },
    {
     "data": {
      "text/plain": [
       "hdfs:///eoi/Proyecto-Final/2013agua.csv MapPartitionsRDD[46] at textFile at <console>:27"
      ]
     },
     "execution_count": 3,
     "metadata": {},
     "output_type": "execute_result"
    }
   ],
   "source": [
    "val Datos_agua = sc.textFile(\"hdfs:///eoi/Proyecto-Final/2013agua.csv\")"
   ]
  },
  {
   "cell_type": "code",
   "execution_count": 4,
   "metadata": {},
   "outputs": [
    {
     "data": {
      "text/plain": [
       "1004895"
      ]
     },
     "execution_count": 4,
     "metadata": {},
     "output_type": "execute_result"
    }
   ],
   "source": [
    "Datos_agua.count"
   ]
  },
  {
   "cell_type": "markdown",
   "metadata": {},
   "source": [
    "Se observa como el nº elementos que contiene dicho rdd es 1.004.895"
   ]
  },
  {
   "cell_type": "code",
   "execution_count": 5,
   "metadata": {},
   "outputs": [
    {
     "data": {
      "text/plain": [
       "Datos_electricidad = hdfs:///eoi/Proyecto-Final/2013electricidad.csv MapPartitionsRDD[48] at textFile at <console>:27\n"
      ]
     },
     "metadata": {},
     "output_type": "display_data"
    },
    {
     "data": {
      "text/plain": [
       "hdfs:///eoi/Proyecto-Final/2013electricidad.csv MapPartitionsRDD[48] at textFile at <console>:27"
      ]
     },
     "execution_count": 5,
     "metadata": {},
     "output_type": "execute_result"
    }
   ],
   "source": [
    "val Datos_electricidad = sc.textFile(\"hdfs:///eoi/Proyecto-Final/2013electricidad.csv\")"
   ]
  },
  {
   "cell_type": "code",
   "execution_count": 6,
   "metadata": {},
   "outputs": [
    {
     "data": {
      "text/plain": [
       "998289"
      ]
     },
     "execution_count": 6,
     "metadata": {},
     "output_type": "execute_result"
    }
   ],
   "source": [
    "Datos_electricidad.count"
   ]
  },
  {
   "cell_type": "markdown",
   "metadata": {},
   "source": [
    "Se observa como el nº elementos que contiene dicho rdd es 998.289"
   ]
  },
  {
   "cell_type": "markdown",
   "metadata": {},
   "source": [
    "<a id=\"1.1\"></a>\n",
    "### * 1.1 Datos ficticios *"
   ]
  },
  {
   "cell_type": "markdown",
   "metadata": {},
   "source": [
    "#### * Obtención de la cabecera del RDD de Datos ficticios*"
   ]
  },
  {
   "cell_type": "code",
   "execution_count": 7,
   "metadata": {},
   "outputs": [
    {
     "data": {
      "text/plain": [
       "Datos_ficticios_cabecera = Edificio;Direccion;Provincia;AforoMaximo\n"
      ]
     },
     "metadata": {},
     "output_type": "display_data"
    },
    {
     "data": {
      "text/plain": [
       "Edificio;Direccion;Provincia;AforoMaximo"
      ]
     },
     "execution_count": 7,
     "metadata": {},
     "output_type": "execute_result"
    }
   ],
   "source": [
    "val Datos_ficticios_cabecera = Datos_ficticios.first() "
   ]
  },
  {
   "cell_type": "markdown",
   "metadata": {},
   "source": [
    "#### * Se crea un RDD que no contenga la cabecera*"
   ]
  },
  {
   "cell_type": "code",
   "execution_count": 8,
   "metadata": {},
   "outputs": [
    {
     "data": {
      "text/plain": [
       "Datos_ficticios_ok = MapPartitionsRDD[49] at filter at <console>:31\n"
      ]
     },
     "metadata": {},
     "output_type": "display_data"
    },
    {
     "data": {
      "text/plain": [
       "MapPartitionsRDD[49] at filter at <console>:31"
      ]
     },
     "execution_count": 8,
     "metadata": {},
     "output_type": "execute_result"
    }
   ],
   "source": [
    "val Datos_ficticios_ok = Datos_ficticios.filter( _ != Datos_ficticios_cabecera)"
   ]
  },
  {
   "cell_type": "code",
   "execution_count": 9,
   "metadata": {},
   "outputs": [
    {
     "data": {
      "text/plain": [
       "29"
      ]
     },
     "execution_count": 9,
     "metadata": {},
     "output_type": "execute_result"
    }
   ],
   "source": [
    "Datos_ficticios_ok.count"
   ]
  },
  {
   "cell_type": "markdown",
   "metadata": {},
   "source": [
    "Se observa como el nº elementos que ahora contiene dicho rdd es 29, una vez eliminada la cabecera "
   ]
  },
  {
   "cell_type": "markdown",
   "metadata": {},
   "source": [
    "#### * Se crea un RDD que es el que realmente se utilizará durante el resto del análisis, en el que los datos están separados por ; *"
   ]
  },
  {
   "cell_type": "code",
   "execution_count": 10,
   "metadata": {},
   "outputs": [
    {
     "data": {
      "text/plain": [
       "d_ficticios = MapPartitionsRDD[50] at map at <console>:33\n"
      ]
     },
     "metadata": {},
     "output_type": "display_data"
    },
    {
     "data": {
      "text/plain": [
       "MapPartitionsRDD[50] at map at <console>:33"
      ]
     },
     "execution_count": 10,
     "metadata": {},
     "output_type": "execute_result"
    }
   ],
   "source": [
    "val d_ficticios = Datos_ficticios_ok.map(x => x.split(\";\")).cache"
   ]
  },
  {
   "cell_type": "code",
   "execution_count": 11,
   "metadata": {},
   "outputs": [
    {
     "data": {
      "text/plain": [
       "[[EDIF_1, Direccion upo-1, Sevilla, 18802], [EDIF_1_CAFETERI, Direccion upo-1, Sevilla, 3571], [EDIF_10, Direccion upo-1, Sevilla, 15912], [EDIF_11, Direccion upo-1, Sevilla, 15176], [EDIF_12, Direccion upo-1, Sevilla, 18747]]"
      ]
     },
     "execution_count": 11,
     "metadata": {},
     "output_type": "execute_result"
    }
   ],
   "source": [
    "d_ficticios.take(5) "
   ]
  },
  {
   "cell_type": "markdown",
   "metadata": {},
   "source": [
    "Ejemplo para comprobar que esta correcto, mostrando un array con los 3 primeros elementos del rdd "
   ]
  },
  {
   "cell_type": "markdown",
   "metadata": {},
   "source": [
    "#### * Se crea un PairRDD donde la clave es el edificio, como identificador del proyecto y el valor es el de todos los campos obtenidos en el comando anterior *"
   ]
  },
  {
   "cell_type": "code",
   "execution_count": 12,
   "metadata": {},
   "outputs": [
    {
     "data": {
      "text/plain": [
       "id_edificio = MapPartitionsRDD[51] at keyBy at <console>:35\n"
      ]
     },
     "metadata": {},
     "output_type": "display_data"
    },
    {
     "data": {
      "text/plain": [
       "MapPartitionsRDD[51] at keyBy at <console>:35"
      ]
     },
     "execution_count": 12,
     "metadata": {},
     "output_type": "execute_result"
    }
   ],
   "source": [
    "val id_edificio = d_ficticios.keyBy( _ (0))"
   ]
  },
  {
   "cell_type": "code",
   "execution_count": 13,
   "metadata": {},
   "outputs": [
    {
     "data": {
      "text/plain": [
       "[(EDIF_1,[Ljava.lang.String;@29d68474), (EDIF_1_CAFETERI,[Ljava.lang.String;@4084a0ed), (EDIF_10,[Ljava.lang.String;@3361b089), (EDIF_11,[Ljava.lang.String;@4f237ca2), (EDIF_12,[Ljava.lang.String;@52cba416)]"
      ]
     },
     "execution_count": 13,
     "metadata": {},
     "output_type": "execute_result"
    }
   ],
   "source": [
    "id_edificio.take(5)"
   ]
  },
  {
   "cell_type": "markdown",
   "metadata": {},
   "source": [
    "<a id=\"1.2\"></a>\n",
    "### * 1. 2 Datos agua *"
   ]
  },
  {
   "cell_type": "markdown",
   "metadata": {},
   "source": [
    "#### * Se crea un RDD en el que los datos están separados por ; *"
   ]
  },
  {
   "cell_type": "code",
   "execution_count": 14,
   "metadata": {},
   "outputs": [
    {
     "data": {
      "text/plain": [
       "dat_agua = MapPartitionsRDD[52] at map at <console>:29\n"
      ]
     },
     "metadata": {},
     "output_type": "display_data"
    },
    {
     "data": {
      "text/plain": [
       "MapPartitionsRDD[52] at map at <console>:29"
      ]
     },
     "execution_count": 14,
     "metadata": {},
     "output_type": "execute_result"
    }
   ],
   "source": [
    "val dat_agua = Datos_agua.map(x => x.split(\";\")).cache"
   ]
  },
  {
   "cell_type": "code",
   "execution_count": 15,
   "metadata": {},
   "outputs": [
    {
     "data": {
      "text/plain": [
       "[[AGUA_EDIF_1, 0, 2013, 01, 01, 00, 00], [AGUA_EDIF_1, 0, 2013, 01, 01, 00, 15], [AGUA_EDIF_1, 0, 2013, 01, 01, 00, 30], [AGUA_EDIF_1, 0, 2013, 01, 01, 00, 45], [AGUA_EDIF_1, 0, 2013, 01, 01, 01, 00]]"
      ]
     },
     "execution_count": 15,
     "metadata": {},
     "output_type": "execute_result"
    }
   ],
   "source": [
    "dat_agua.take(5)"
   ]
  },
  {
   "cell_type": "markdown",
   "metadata": {},
   "source": [
    "Se detecta que existen algunas observaciones denominadas AGUA_UPO en lugar de AGUA_EDIF, dado que:\n",
    "\n",
    "El edificio denominado UPO representa el total de la universidad para cada uno de los consumos en cada momento. Este total incorpora datos de otros edificios o instalaciones no supervisados.\n",
    "\n",
    "Se decide partir los datos en 2 RDDs diferentes para analizarlos de manera independiente."
   ]
  },
  {
   "cell_type": "code",
   "execution_count": 16,
   "metadata": {},
   "outputs": [
    {
     "data": {
      "text/plain": [
       "d_agua = MapPartitionsRDD[53] at filter at <console>:31\n"
      ]
     },
     "metadata": {},
     "output_type": "display_data"
    },
    {
     "data": {
      "text/plain": [
       "MapPartitionsRDD[53] at filter at <console>:31"
      ]
     },
     "execution_count": 16,
     "metadata": {},
     "output_type": "execute_result"
    }
   ],
   "source": [
    "val d_agua = dat_agua.filter(_(0)!=\"AGUA_UPO\")"
   ]
  },
  {
   "cell_type": "code",
   "execution_count": 17,
   "metadata": {},
   "outputs": [
    {
     "data": {
      "text/plain": [
       "970242"
      ]
     },
     "execution_count": 17,
     "metadata": {},
     "output_type": "execute_result"
    }
   ],
   "source": [
    "d_agua.count()"
   ]
  },
  {
   "cell_type": "code",
   "execution_count": 18,
   "metadata": {},
   "outputs": [
    {
     "data": {
      "text/plain": [
       "d_agua_UPO = MapPartitionsRDD[54] at filter at <console>:31\n"
      ]
     },
     "metadata": {},
     "output_type": "display_data"
    },
    {
     "data": {
      "text/plain": [
       "MapPartitionsRDD[54] at filter at <console>:31"
      ]
     },
     "execution_count": 18,
     "metadata": {},
     "output_type": "execute_result"
    }
   ],
   "source": [
    "val d_agua_UPO = dat_agua.filter(_(0)==\"AGUA_UPO\")"
   ]
  },
  {
   "cell_type": "code",
   "execution_count": 19,
   "metadata": {},
   "outputs": [
    {
     "data": {
      "text/plain": [
       "34653"
      ]
     },
     "execution_count": 19,
     "metadata": {},
     "output_type": "execute_result"
    }
   ],
   "source": [
    "d_agua_UPO.count()"
   ]
  },
  {
   "cell_type": "markdown",
   "metadata": {},
   "source": [
    "<a id=\"1.3\"></a>\n",
    "### * 1. 3 Datos electricidad *"
   ]
  },
  {
   "cell_type": "markdown",
   "metadata": {},
   "source": [
    "#### *  Se crea un RDD en el que los datos están separados por ; *"
   ]
  },
  {
   "cell_type": "code",
   "execution_count": 20,
   "metadata": {},
   "outputs": [
    {
     "data": {
      "text/plain": [
       "dat_electricidad = MapPartitionsRDD[55] at map at <console>:29\n"
      ]
     },
     "metadata": {},
     "output_type": "display_data"
    },
    {
     "data": {
      "text/plain": [
       "MapPartitionsRDD[55] at map at <console>:29"
      ]
     },
     "execution_count": 20,
     "metadata": {},
     "output_type": "execute_result"
    }
   ],
   "source": [
    "val dat_electricidad = Datos_electricidad.map(x => x.split(\";\")).cache"
   ]
  },
  {
   "cell_type": "code",
   "execution_count": 21,
   "metadata": {},
   "outputs": [
    {
     "data": {
      "text/plain": [
       "[[ELEC_EDIF_1, 1.354, 2013, 01, 01, 00, 00], [ELEC_EDIF_1, 1.521, 2013, 01, 01, 00, 15], [ELEC_EDIF_1, 1.239, 2013, 01, 01, 00, 30], [ELEC_EDIF_1, 1.347, 2013, 01, 01, 00, 45], [ELEC_EDIF_1, 1.3, 2013, 01, 01, 01, 00]]"
      ]
     },
     "execution_count": 21,
     "metadata": {},
     "output_type": "execute_result"
    }
   ],
   "source": [
    "dat_electricidad.take(5)"
   ]
  },
  {
   "cell_type": "markdown",
   "metadata": {},
   "source": [
    "De igual manera como ha ocurrido con el agua, se detecta que existen algunas observaciones denominadas ELEC_UPO en lugar de ELEC_EDIF, en este caso también se decide partir los datos en 2 RDDs diferentes para analizarlos de manera independiente."
   ]
  },
  {
   "cell_type": "code",
   "execution_count": 22,
   "metadata": {},
   "outputs": [
    {
     "data": {
      "text/plain": [
       "d_electricidad = MapPartitionsRDD[56] at filter at <console>:31\n"
      ]
     },
     "metadata": {},
     "output_type": "display_data"
    },
    {
     "data": {
      "text/plain": [
       "MapPartitionsRDD[56] at filter at <console>:31"
      ]
     },
     "execution_count": 22,
     "metadata": {},
     "output_type": "execute_result"
    }
   ],
   "source": [
    "val d_electricidad = dat_electricidad.filter(x => (x(0)!=\"ELEC_UPO\"))"
   ]
  },
  {
   "cell_type": "code",
   "execution_count": 23,
   "metadata": {},
   "outputs": [
    {
     "data": {
      "text/plain": [
       "963249"
      ]
     },
     "execution_count": 23,
     "metadata": {},
     "output_type": "execute_result"
    }
   ],
   "source": [
    "d_electricidad.count()"
   ]
  },
  {
   "cell_type": "code",
   "execution_count": 24,
   "metadata": {},
   "outputs": [
    {
     "data": {
      "text/plain": [
       "d_electricidad_UPO = MapPartitionsRDD[57] at filter at <console>:31\n"
      ]
     },
     "metadata": {},
     "output_type": "display_data"
    },
    {
     "data": {
      "text/plain": [
       "MapPartitionsRDD[57] at filter at <console>:31"
      ]
     },
     "execution_count": 24,
     "metadata": {},
     "output_type": "execute_result"
    }
   ],
   "source": [
    "val d_electricidad_UPO = dat_electricidad.filter(x => (x(0)==\"ELEC_UPO\"))"
   ]
  },
  {
   "cell_type": "code",
   "execution_count": 25,
   "metadata": {},
   "outputs": [
    {
     "data": {
      "text/plain": [
       "35040"
      ]
     },
     "execution_count": 25,
     "metadata": {},
     "output_type": "execute_result"
    }
   ],
   "source": [
    "d_electricidad_UPO.count()"
   ]
  },
  {
   "cell_type": "markdown",
   "metadata": {},
   "source": [
    "<a id=\"2\"></a>\n",
    "### * 2. Estadísticas*"
   ]
  },
  {
   "cell_type": "markdown",
   "metadata": {},
   "source": [
    "<a id=\"2.1\"></a>\n",
    "### *2.1 Agua *"
   ]
  },
  {
   "cell_type": "markdown",
   "metadata": {},
   "source": [
    "#### *Calculo del valor de la lectura en m3 por cada edificio, se crea un RDD clave(Edificio) -  valor(m3), con valor decimal y se ordenan de mayor a menor*"
   ]
  },
  {
   "cell_type": "code",
   "execution_count": 26,
   "metadata": {},
   "outputs": [
    {
     "data": {
      "text/plain": [
       "agua_por_edificio_1 = MapPartitionsRDD[58] at map at <console>:33\n"
      ]
     },
     "metadata": {},
     "output_type": "display_data"
    },
    {
     "data": {
      "text/plain": [
       "MapPartitionsRDD[58] at map at <console>:33"
      ]
     },
     "execution_count": 26,
     "metadata": {},
     "output_type": "execute_result"
    }
   ],
   "source": [
    "val agua_por_edificio_1 = d_agua.map(x => (x(0),x(1).toDouble))"
   ]
  },
  {
   "cell_type": "code",
   "execution_count": 27,
   "metadata": {},
   "outputs": [
    {
     "data": {
      "text/plain": [
       "[(AGUA_EDIF_1,0.0), (AGUA_EDIF_1,0.0), (AGUA_EDIF_1,0.0), (AGUA_EDIF_1,0.0), (AGUA_EDIF_1,0.0)]"
      ]
     },
     "execution_count": 27,
     "metadata": {},
     "output_type": "execute_result"
    }
   ],
   "source": [
    "agua_por_edificio.take(5)"
   ]
  },
  {
   "cell_type": "markdown",
   "metadata": {},
   "source": [
    "#### *Se analiza si existen valores negativos y se eliminan, ya que no tienen sentido*"
   ]
  },
  {
   "cell_type": "code",
   "execution_count": 28,
   "metadata": {},
   "outputs": [
    {
     "data": {
      "text/plain": [
       "count_neg = 0\n"
      ]
     },
     "metadata": {},
     "output_type": "display_data"
    },
    {
     "data": {
      "text/plain": [
       "0"
      ]
     },
     "execution_count": 28,
     "metadata": {},
     "output_type": "execute_result"
    }
   ],
   "source": [
    "val count_neg = agua_por_edificio.filter(x => x._2 <0).count()"
   ]
  },
  {
   "cell_type": "code",
   "execution_count": 29,
   "metadata": {},
   "outputs": [
    {
     "data": {
      "text/plain": [
       "agua_por_edificio = MapPartitionsRDD[60] at filter at <console>:35\n"
      ]
     },
     "metadata": {},
     "output_type": "display_data"
    },
    {
     "data": {
      "text/plain": [
       "MapPartitionsRDD[60] at filter at <console>:35"
      ]
     },
     "execution_count": 29,
     "metadata": {},
     "output_type": "execute_result"
    }
   ],
   "source": [
    "val agua_por_edificio = agua_por_edificio_1.filter(x => x._2 >= 0)"
   ]
  },
  {
   "cell_type": "code",
   "execution_count": 30,
   "metadata": {},
   "outputs": [
    {
     "data": {
      "text/plain": [
       "970095"
      ]
     },
     "execution_count": 30,
     "metadata": {},
     "output_type": "execute_result"
    }
   ],
   "source": [
    "agua_por_edificio.count()"
   ]
  },
  {
   "cell_type": "code",
   "execution_count": 31,
   "metadata": {},
   "outputs": [
    {
     "data": {
      "text/plain": [
       "total_agua_por_edificio = MapPartitionsRDD[66] at sortBy at <console>:37\n"
      ]
     },
     "metadata": {},
     "output_type": "display_data"
    },
    {
     "data": {
      "text/plain": [
       "MapPartitionsRDD[66] at sortBy at <console>:37"
      ]
     },
     "execution_count": 31,
     "metadata": {},
     "output_type": "execute_result"
    }
   ],
   "source": [
    "val total_agua_por_edificio = agua_por_edificio.reduceByKey((a,b) => a+b).sortBy(x => x._2,false)"
   ]
  },
  {
   "cell_type": "code",
   "execution_count": 32,
   "metadata": {},
   "outputs": [
    {
     "data": {
      "text/plain": [
       "[(AGUA_EDIF_20,6367.870000000003), (AGUA_EDIF_16,4197.345999999506), (AGUA_EDIF_15,3045.9600000001237), (AGUA_EDIF_7,1807.7299999998027), (AGUA_EDIF_17,1219.489999999943), (AGUA_EDIF_3,952.7199999999352), (AGUA_EDIF_36,925.799999999867), (AGUA_EDIF_1_CAFETERI,709.8699999999867), (AGUA_EDIF_1,709.8699999999565), (AGUA_EDIF_10,628.2499999999555), (AGUA_EDIF_11,527.4899999999997), (AGUA_EDIF_6,479.7899999999386), (AGUA_EDIF_4,472.3299999999401), (AGUA_EDIF_32,401.42999999994436), (AGUA_EDIF_12,396.7199999999699), (AGUA_EDIF_21,387.07199999997704), (AGUA_EDIF_2,369.8799999999802), (AGUA_EDIF_8,348.9499999999779), (AGUA_EDIF_17_COMEDOR,344.9100000000061), (AGUA_EDIF_43,337.2699999999959), (AGUA_EDIF_14,301.39999999999054), (AGUA_EDIF_5,279.1200000000026), (AGUA_EDIF_18_KIOSCO,182.85000000000474), (AGUA_EDIF_44,163.3200000000034), (AGUA_EDIF_13,126.06000000000282), (AGUA_EDIF_31,90.3800000000023), (AGUA_EDIF_42,6.159999999999988), (AGUA_EDIF_45,0.0)]"
      ]
     },
     "execution_count": 32,
     "metadata": {},
     "output_type": "execute_result"
    }
   ],
   "source": [
    "total_agua_por_edificio.take(28)"
   ]
  },
  {
   "cell_type": "markdown",
   "metadata": {},
   "source": [
    "#### * La media de consumo por edificio es de 920 m3*"
   ]
  },
  {
   "cell_type": "code",
   "execution_count": 33,
   "metadata": {},
   "outputs": [
    {
     "data": {
      "text/plain": [
       "media_agua_edificios = 920.7156428571006\n"
      ]
     },
     "metadata": {},
     "output_type": "display_data"
    },
    {
     "data": {
      "text/plain": [
       "920.7156428571006"
      ]
     },
     "execution_count": 33,
     "metadata": {},
     "output_type": "execute_result"
    }
   ],
   "source": [
    "val media_agua_edificios = total_agua_por_edificio.values.mean"
   ]
  },
  {
   "cell_type": "markdown",
   "metadata": {},
   "source": [
    "#### *Se calcula el máximo y mínimo*"
   ]
  },
  {
   "cell_type": "code",
   "execution_count": 34,
   "metadata": {},
   "outputs": [
    {
     "data": {
      "text/plain": [
       "max_agua_edificios = (AGUA_EDIF_20,6367.870000000003)\n"
      ]
     },
     "metadata": {},
     "output_type": "display_data"
    },
    {
     "data": {
      "text/plain": [
       "(AGUA_EDIF_20,6367.870000000003)"
      ]
     },
     "execution_count": 34,
     "metadata": {},
     "output_type": "execute_result"
    }
   ],
   "source": [
    "val max_agua_edificios = total_agua_por_edificio.reduceByKey((a,b) => a+b).sortBy(x => x._2,false).first()"
   ]
  },
  {
   "cell_type": "code",
   "execution_count": 35,
   "metadata": {},
   "outputs": [
    {
     "data": {
      "text/plain": [
       "min_agua_edificios = (AGUA_EDIF_45,0.0)\n"
      ]
     },
     "metadata": {},
     "output_type": "display_data"
    },
    {
     "data": {
      "text/plain": [
       "(AGUA_EDIF_45,0.0)"
      ]
     },
     "execution_count": 35,
     "metadata": {},
     "output_type": "execute_result"
    }
   ],
   "source": [
    "val min_agua_edificios = total_agua_por_edificio.reduceByKey((a,b) => a+b).sortBy(x => x._2,true).first()"
   ]
  },
  {
   "cell_type": "markdown",
   "metadata": {},
   "source": [
    "Es descable el consumo del Edificio número 20 ya que posee casi 7 veces el valor de la media, como es obvio la media esta muy influenciada por los extremos.Además el Edificio 45 no ha tenido consumo de agua, lo cual es raro e intuyo quee será  un edificio destinado a una actividad muy especifica como por ejemplo podría ser almacenaje"
   ]
  },
  {
   "cell_type": "markdown",
   "metadata": {},
   "source": [
    "#### * Para cuantificar la dispersión de los datos entre edificios se calcula la desviación típica*"
   ]
  },
  {
   "cell_type": "code",
   "execution_count": 36,
   "metadata": {},
   "outputs": [
    {
     "data": {
      "text/plain": [
       "des_agua_edificios = 1383.2643465761612\n"
      ]
     },
     "metadata": {},
     "output_type": "display_data"
    },
    {
     "data": {
      "text/plain": [
       "1383.2643465761612"
      ]
     },
     "execution_count": 36,
     "metadata": {},
     "output_type": "execute_result"
    }
   ],
   "source": [
    "val des_agua_edificios = total_agua_por_edificio.values.stdev"
   ]
  },
  {
   "cell_type": "markdown",
   "metadata": {},
   "source": [
    "#### * Se aplica reduce para obtener el sumatorio de los consumos de agua en edificios*"
   ]
  },
  {
   "cell_type": "code",
   "execution_count": 37,
   "metadata": {},
   "outputs": [
    {
     "data": {
      "text/plain": [
       "total_agua = 25780.03799999986\n"
      ]
     },
     "metadata": {},
     "output_type": "display_data"
    },
    {
     "data": {
      "text/plain": [
       "25780.03799999986"
      ]
     },
     "execution_count": 37,
     "metadata": {},
     "output_type": "execute_result"
    }
   ],
   "source": [
    "val total_agua = agua_por_edificio.values.reduce( (a,b) => a + b)"
   ]
  },
  {
   "cell_type": "markdown",
   "metadata": {},
   "source": [
    "#### * Se calcula el sumatorio de los consumos de agua en UPO*"
   ]
  },
  {
   "cell_type": "code",
   "execution_count": 47,
   "metadata": {},
   "outputs": [
    {
     "data": {
      "text/plain": [
       "neg_upo_agua = 0\n"
      ]
     },
     "metadata": {},
     "output_type": "display_data"
    },
    {
     "data": {
      "text/plain": [
       "0"
      ]
     },
     "execution_count": 47,
     "metadata": {},
     "output_type": "execute_result"
    }
   ],
   "source": [
    "val neg_upo_agua = d_agua_UPO.filter(x => x(1).toDouble < 0 ).count()"
   ]
  },
  {
   "cell_type": "markdown",
   "metadata": {},
   "source": [
    "No posee valores negativos"
   ]
  },
  {
   "cell_type": "code",
   "execution_count": 48,
   "metadata": {},
   "outputs": [
    {
     "data": {
      "text/plain": [
       "[[AGUA_UPO, 0.62, 2013, 01, 01, 00, 00], [AGUA_UPO, 0.33, 2013, 01, 01, 00, 15], [AGUA_UPO, 0.3, 2013, 01, 01, 00, 30], [AGUA_UPO, 0.25, 2013, 01, 01, 00, 45], [AGUA_UPO, 0.26, 2013, 01, 01, 01, 00]]"
      ]
     },
     "execution_count": 48,
     "metadata": {},
     "output_type": "execute_result"
    }
   ],
   "source": [
    "d_agua_UPO.take(5)"
   ]
  },
  {
   "cell_type": "code",
   "execution_count": 49,
   "metadata": {},
   "outputs": [
    {
     "data": {
      "text/plain": [
       "total_agua_upo = 39388.879999999896\n"
      ]
     },
     "metadata": {},
     "output_type": "display_data"
    },
    {
     "data": {
      "text/plain": [
       "39388.879999999896"
      ]
     },
     "execution_count": 49,
     "metadata": {},
     "output_type": "execute_result"
    }
   ],
   "source": [
    "val total_agua_upo = d_agua_UPO.map(x => (x(0),x(1).toDouble)).values.reduce((a,b) => a + b)"
   ]
  },
  {
   "cell_type": "markdown",
   "metadata": {},
   "source": [
    "#### * Dado que este último RDD incorpora datos de otros edificios o instalaciones no supervisados, la resta entre ambos arroja el consumo de instalaciones no supervisadas*"
   ]
  },
  {
   "cell_type": "code",
   "execution_count": 50,
   "metadata": {},
   "outputs": [
    {
     "data": {
      "text/plain": [
       "total_agua_no_supervisada = 13608.842000000037\n"
      ]
     },
     "metadata": {},
     "output_type": "display_data"
    },
    {
     "data": {
      "text/plain": [
       "13608.842000000037"
      ]
     },
     "execution_count": 50,
     "metadata": {},
     "output_type": "execute_result"
    }
   ],
   "source": [
    "val total_agua_no_supervisada = total_agua_upo - total_agua"
   ]
  },
  {
   "cell_type": "markdown",
   "metadata": {},
   "source": [
    "Se observa como hay 13.626 m3 de agua consumida por instalaciones no supervisadas"
   ]
  },
  {
   "cell_type": "markdown",
   "metadata": {},
   "source": [
    "<a id=\"2.2\"></a>\n",
    "### *2.2 Electricidad*"
   ]
  },
  {
   "cell_type": "markdown",
   "metadata": {},
   "source": [
    "#### *De igual manera, para la electriciad calculo del valor del kW/h por cada edificio, se crea un RDD clave(Edificio) - valor(kW/h), con valor decimal y se ordenan de mayor a menor*"
   ]
  },
  {
   "cell_type": "code",
   "execution_count": 51,
   "metadata": {},
   "outputs": [
    {
     "data": {
      "text/plain": [
       "elec_por_edificio_1 = MapPartitionsRDD[88] at map at <console>:33\n"
      ]
     },
     "metadata": {},
     "output_type": "display_data"
    },
    {
     "data": {
      "text/plain": [
       "MapPartitionsRDD[88] at map at <console>:33"
      ]
     },
     "execution_count": 51,
     "metadata": {},
     "output_type": "execute_result"
    }
   ],
   "source": [
    "val elec_por_edificio_1 = d_electricidad.map(x => (x(0),x(1).toDouble))"
   ]
  },
  {
   "cell_type": "markdown",
   "metadata": {},
   "source": [
    "#### *Se analiza si existen valores negativos y se eliminan, ya que no tienen sentido*"
   ]
  },
  {
   "cell_type": "code",
   "execution_count": 52,
   "metadata": {},
   "outputs": [
    {
     "data": {
      "text/plain": [
       "neg_elec = 2221\n"
      ]
     },
     "metadata": {},
     "output_type": "display_data"
    },
    {
     "data": {
      "text/plain": [
       "2221"
      ]
     },
     "execution_count": 52,
     "metadata": {},
     "output_type": "execute_result"
    }
   ],
   "source": [
    "val neg_elec = elec_por_edificio_1.filter(x => x._2 <0).count()"
   ]
  },
  {
   "cell_type": "code",
   "execution_count": 53,
   "metadata": {},
   "outputs": [
    {
     "data": {
      "text/plain": [
       "elec_por_edificio = MapPartitionsRDD[90] at filter at <console>:35\n"
      ]
     },
     "metadata": {},
     "output_type": "display_data"
    },
    {
     "data": {
      "text/plain": [
       "MapPartitionsRDD[90] at filter at <console>:35"
      ]
     },
     "execution_count": 53,
     "metadata": {},
     "output_type": "execute_result"
    }
   ],
   "source": [
    "val elec_por_edificio = elec_por_edificio_1.filter(x => x._2 >= 0)"
   ]
  },
  {
   "cell_type": "code",
   "execution_count": 54,
   "metadata": {},
   "outputs": [
    {
     "data": {
      "text/plain": [
       "961028"
      ]
     },
     "execution_count": 54,
     "metadata": {},
     "output_type": "execute_result"
    }
   ],
   "source": [
    "elec_por_edificio.count()"
   ]
  },
  {
   "cell_type": "code",
   "execution_count": 55,
   "metadata": {},
   "outputs": [
    {
     "data": {
      "text/plain": [
       "MapPartitionsRDD[96] at sortBy at <console>:37"
      ]
     },
     "execution_count": 55,
     "metadata": {},
     "output_type": "execute_result"
    },
    {
     "data": {
      "text/plain": [
       "total_elec_por_edificio = MapPartitionsRDD[96] at sortBy at <console>:37\n"
      ]
     },
     "metadata": {},
     "output_type": "display_data"
    }
   ],
   "source": [
    "val total_elec_por_edificio = elec_por_edificio.reduceByKey( (a,b) => a+b).sortBy(x => x._2,false)"
   ]
  },
  {
   "cell_type": "code",
   "execution_count": 56,
   "metadata": {},
   "outputs": [
    {
     "data": {
      "text/plain": [
       "[(ELEC_EDIF_20,1625734.7639999923), (ELEC_EDIF_21,579830.630000001), (ELEC_EDIF_45,285486.19299999875), (ELEC_EDIF_7,266688.74300000095), (ELEC_EDIF_15,263737.3690000025), (ELEC_EDIF_14,252734.938999999), (ELEC_EDIF_10,224691.37899999702), (ELEC_EDIF_17,219905.69300000192), (ELEC_EDIF_2,218905.90800000125), (ELEC_EDIF_11,195154.23400000075), (ELEC_EDIF_3,173988.7100000009), (ELEC_EDIF_32,160687.17600000033), (ELEC_EDIF_1,143819.20200000048), (ELEC_EDIF_6,135662.6199999995), (ELEC_EDIF_1_CAFETERI,123496.3539999999), (ELEC_EDIF_44,105796.46400000073), (ELEC_EDIF_12,82013.96899999982), (ELEC_EDIF_17_COMEDOR,79210.64399999977), (ELEC_EDIF_31,57470.26199999967), (ELEC_EDIF_8,53756.02600000007), (ELEC_EDIF_5,41959.54400000007), (ELEC_EDIF_4,35481.169000000176), (ELEC_EDIF_18_KIOSCO,30028.251000000007), (ELEC_EDIF_13,27464.337000000156), (ELEC_EDIF_16,23105.5220000001), (ELEC_EDIF_36,9568.368000000246), (ELEC_EDIF_43,7829.521000000384), (ELEC_EDIF_42,6325.0609999988665)]"
      ]
     },
     "execution_count": 56,
     "metadata": {},
     "output_type": "execute_result"
    }
   ],
   "source": [
    "total_elec_por_edificio.take(30)"
   ]
  },
  {
   "cell_type": "markdown",
   "metadata": {},
   "source": [
    "#### *La media de consumo por edificio es de 193.710,93 kW/h *"
   ]
  },
  {
   "cell_type": "code",
   "execution_count": 40,
   "metadata": {},
   "outputs": [
    {
     "data": {
      "text/plain": [
       "media_elec_edificios = 193710.93224999987\n"
      ]
     },
     "metadata": {},
     "output_type": "display_data"
    },
    {
     "data": {
      "text/plain": [
       "193710.93224999987"
      ]
     },
     "execution_count": 40,
     "metadata": {},
     "output_type": "execute_result"
    }
   ],
   "source": [
    "val media_elec_edificios = total_elec_por_edificio.values.mean"
   ]
  },
  {
   "cell_type": "markdown",
   "metadata": {},
   "source": [
    "#### *Se calculan los máximos y mínimos*"
   ]
  },
  {
   "cell_type": "code",
   "execution_count": 41,
   "metadata": {},
   "outputs": [
    {
     "data": {
      "text/plain": [
       "max_elec_edificios = (ELEC_EDIF_20,1625734.7639999923)\n"
      ]
     },
     "metadata": {},
     "output_type": "display_data"
    },
    {
     "data": {
      "text/plain": [
       "(ELEC_EDIF_20,1625734.7639999923)"
      ]
     },
     "execution_count": 41,
     "metadata": {},
     "output_type": "execute_result"
    }
   ],
   "source": [
    "val max_elec_edificios = total_elec_por_edificio.reduceByKey((a,b) => a+b).sortBy(x => x._2,false).first()"
   ]
  },
  {
   "cell_type": "code",
   "execution_count": 42,
   "metadata": {},
   "outputs": [
    {
     "data": {
      "text/plain": [
       "min_elec_edificios = (ELEC_EDIF_42,6325.0609999988665)\n"
      ]
     },
     "metadata": {},
     "output_type": "display_data"
    },
    {
     "data": {
      "text/plain": [
       "(ELEC_EDIF_42,6325.0609999988665)"
      ]
     },
     "execution_count": 42,
     "metadata": {},
     "output_type": "execute_result"
    }
   ],
   "source": [
    "val min_elec_edificios = total_elec_por_edificio.reduceByKey((a,b) => a+b).sortBy(x => x._2,true).first()"
   ]
  },
  {
   "cell_type": "markdown",
   "metadata": {},
   "source": [
    "Se observa como la media es 8 veces menos que el máximo y el mínimo 30 veces menos"
   ]
  },
  {
   "cell_type": "markdown",
   "metadata": {},
   "source": [
    "#### *Para cuantificar la dispersión de los datos entre edificios se calcula la desviación típica*"
   ]
  },
  {
   "cell_type": "code",
   "execution_count": 43,
   "metadata": {},
   "outputs": [
    {
     "data": {
      "text/plain": [
       "des_elec_edificios = 301354.69640557136\n"
      ]
     },
     "metadata": {},
     "output_type": "display_data"
    },
    {
     "data": {
      "text/plain": [
       "301354.69640557136"
      ]
     },
     "execution_count": 43,
     "metadata": {},
     "output_type": "execute_result"
    }
   ],
   "source": [
    "val des_elec_edificios = total_elec_por_edificio.values.stdev"
   ]
  },
  {
   "cell_type": "markdown",
   "metadata": {},
   "source": [
    "Se aprecia como los datos de electricidad son muchísimo más dispersos que los datos del agua aunque utilicen diferentes escalas de medición"
   ]
  },
  {
   "cell_type": "markdown",
   "metadata": {},
   "source": [
    "#### *Se aplica reduce para obtener el sumatorio de los consumos de electricidad en edificios*"
   ]
  },
  {
   "cell_type": "code",
   "execution_count": 44,
   "metadata": {},
   "outputs": [
    {
     "data": {
      "text/plain": [
       "total_elec = 5423906.103000017\n"
      ]
     },
     "metadata": {},
     "output_type": "display_data"
    },
    {
     "data": {
      "text/plain": [
       "5423906.103000017"
      ]
     },
     "execution_count": 44,
     "metadata": {},
     "output_type": "execute_result"
    }
   ],
   "source": [
    "val total_elec = elec_por_edificio.values.reduce( (a,b) => a + b)"
   ]
  },
  {
   "cell_type": "markdown",
   "metadata": {},
   "source": [
    "#### *Se calcula el sumatorio de los consumos de electricidad en UPO*"
   ]
  },
  {
   "cell_type": "code",
   "execution_count": 57,
   "metadata": {},
   "outputs": [
    {
     "data": {
      "text/plain": [
       "neg_upo_elec = 0\n"
      ]
     },
     "metadata": {},
     "output_type": "display_data"
    },
    {
     "data": {
      "text/plain": [
       "0"
      ]
     },
     "execution_count": 57,
     "metadata": {},
     "output_type": "execute_result"
    }
   ],
   "source": [
    "val neg_upo_elec = d_electricidad_UPO.filter(x => x(1).toDouble < 0 ).count()"
   ]
  },
  {
   "cell_type": "markdown",
   "metadata": {},
   "source": [
    "No posee negativos"
   ]
  },
  {
   "cell_type": "code",
   "execution_count": 45,
   "metadata": {},
   "outputs": [
    {
     "data": {
      "text/plain": [
       "total_elec_upo = 1.2911443386999983E7\n"
      ]
     },
     "metadata": {},
     "output_type": "display_data"
    },
    {
     "data": {
      "text/plain": [
       "1.2911443386999983E7"
      ]
     },
     "execution_count": 45,
     "metadata": {},
     "output_type": "execute_result"
    }
   ],
   "source": [
    "val total_elec_upo = d_electricidad_UPO.map(x => (x(0),x(1).toDouble)).values.reduce((a,b) => a + b)"
   ]
  },
  {
   "cell_type": "markdown",
   "metadata": {},
   "source": [
    "#### *Dado que este RDD incorpora datos de otros edificios o instalaciones no supervisados, la resta entre ambos arroja el consumo de instalaciones no supervisadas*"
   ]
  },
  {
   "cell_type": "code",
   "execution_count": 46,
   "metadata": {},
   "outputs": [
    {
     "data": {
      "text/plain": [
       "total_elec_no_supervisada = 7487537.283999966\n"
      ]
     },
     "metadata": {},
     "output_type": "display_data"
    },
    {
     "data": {
      "text/plain": [
       "7487537.283999966"
      ]
     },
     "execution_count": 46,
     "metadata": {},
     "output_type": "execute_result"
    }
   ],
   "source": [
    "val total_elec_no_supervisada = total_elec_upo - total_elec"
   ]
  },
  {
   "cell_type": "markdown",
   "metadata": {},
   "source": [
    "Se observa como hay 7.487.537.28 kW/h de electricidad consumida por instalaciones no supervisadas"
   ]
  },
  {
   "cell_type": "markdown",
   "metadata": {},
   "source": [
    "<a id=\"2.3\"></a>\n",
    "### *2. 3 Datos ficticios*"
   ]
  },
  {
   "cell_type": "markdown",
   "metadata": {},
   "source": [
    "Se procede a relizar la unión de las bases de datos de agua y electricidad con la base de datos fictios para analizar los consumos en función de las direcciones,estos datos se uniran a través del id Edificio.\n",
    "\n",
    "Para unirlas el identificador no es igual ya que el csv de agua contiene AGUA_EDIF_X por lo que hay que deshacerse de la parte AGUA_ del csv original llamado Datos_agua, de igual manera ocurre con la electricidad.\n",
    "\n",
    "También es remarcable que este cambio habría sido más eficiente realizarlo al comienzo del análisis para no escribir el mismo código otra vez y ahorrar pasos e ir mucho más rápido.\n",
    "\n",
    "(Quería reflejar la realidad del análisis llevado a cabo, en un proyecto primero hay que marcarse los objetivos a conseguir y después analizar el cómo, si desde un inicio hubiera tenido claro el objetivo de unir las bases de datos para esta primera parte me habria ahorrado gran parte de los pasos siguientes). "
   ]
  },
  {
   "cell_type": "markdown",
   "metadata": {},
   "source": [
    "<a id=\"2.3.1\"></a>\n",
    "### *2. 3. 1 Datos ficticios union con agua*"
   ]
  },
  {
   "cell_type": "code",
   "execution_count": 47,
   "metadata": {},
   "outputs": [
    {
     "data": {
      "text/plain": [
       "agua_sin_ = MapPartitionsRDD[67] at map at <console>:29\n"
      ]
     },
     "metadata": {},
     "output_type": "display_data"
    },
    {
     "data": {
      "text/plain": [
       "MapPartitionsRDD[67] at map at <console>:29"
      ]
     },
     "execution_count": 47,
     "metadata": {},
     "output_type": "execute_result"
    }
   ],
   "source": [
    "val agua_sin_ = Datos_agua.map(x => x.replace( \"AGUA_\", \"\" ))"
   ]
  },
  {
   "cell_type": "code",
   "execution_count": 48,
   "metadata": {},
   "outputs": [
    {
     "data": {
      "text/plain": [
       "agua_edif_sin = MapPartitionsRDD[68] at map at <console>:31\n"
      ]
     },
     "metadata": {},
     "output_type": "display_data"
    },
    {
     "data": {
      "text/plain": [
       "MapPartitionsRDD[68] at map at <console>:31"
      ]
     },
     "execution_count": 48,
     "metadata": {},
     "output_type": "execute_result"
    }
   ],
   "source": [
    "val agua_edif_sin = agua_sin_.map(x => x.split(\";\")).cache"
   ]
  },
  {
   "cell_type": "code",
   "execution_count": 49,
   "metadata": {},
   "outputs": [
    {
     "data": {
      "text/plain": [
       "[[EDIF_1, 0, 2013, 01, 01, 00, 00], [EDIF_1, 0, 2013, 01, 01, 00, 15], [EDIF_1, 0, 2013, 01, 01, 00, 30], [EDIF_1, 0, 2013, 01, 01, 00, 45], [EDIF_1, 0, 2013, 01, 01, 01, 00], [EDIF_1, 0, 2013, 01, 01, 01, 15], [EDIF_1, 0, 2013, 01, 01, 01, 30], [EDIF_1, 0, 2013, 01, 01, 01, 45], [EDIF_1, 0, 2013, 01, 01, 02, 00], [EDIF_1, 0, 2013, 01, 01, 02, 15]]"
      ]
     },
     "execution_count": 49,
     "metadata": {},
     "output_type": "execute_result"
    }
   ],
   "source": [
    "agua_edif_sin.take(10)"
   ]
  },
  {
   "cell_type": "code",
   "execution_count": 50,
   "metadata": {},
   "outputs": [
    {
     "data": {
      "text/plain": [
       "agua_edif_sin_N_UPO = MapPartitionsRDD[69] at filter at <console>:33\n"
      ]
     },
     "metadata": {},
     "output_type": "display_data"
    },
    {
     "data": {
      "text/plain": [
       "MapPartitionsRDD[69] at filter at <console>:33"
      ]
     },
     "execution_count": 50,
     "metadata": {},
     "output_type": "execute_result"
    }
   ],
   "source": [
    "val agua_edif_sin_N_UPO = agua_edif_sin.filter(x=>(x(0)!=\"UPO\"))"
   ]
  },
  {
   "cell_type": "code",
   "execution_count": 51,
   "metadata": {},
   "outputs": [
    {
     "data": {
      "text/plain": [
       "agua_por_edifi_SIN = MapPartitionsRDD[70] at map at <console>:35\n"
      ]
     },
     "metadata": {},
     "output_type": "display_data"
    },
    {
     "data": {
      "text/plain": [
       "MapPartitionsRDD[70] at map at <console>:35"
      ]
     },
     "execution_count": 51,
     "metadata": {},
     "output_type": "execute_result"
    }
   ],
   "source": [
    "val agua_por_edifi_SIN = agua_edif_sin_N_UPO.map(x => (x(0),x(1).toDouble))"
   ]
  },
  {
   "cell_type": "code",
   "execution_count": 52,
   "metadata": {},
   "outputs": [
    {
     "data": {
      "text/plain": [
       "total_agua_por_edif_SIN = MapPartitionsRDD[76] at sortBy at <console>:37\n"
      ]
     },
     "metadata": {},
     "output_type": "display_data"
    },
    {
     "data": {
      "text/plain": [
       "MapPartitionsRDD[76] at sortBy at <console>:37"
      ]
     },
     "execution_count": 52,
     "metadata": {},
     "output_type": "execute_result"
    }
   ],
   "source": [
    "val total_agua_por_edif_SIN = agua_por_edifi_SIN.reduceByKey((v1,v2)=> v1+v2).sortBy(_._2,false)"
   ]
  },
  {
   "cell_type": "code",
   "execution_count": 53,
   "metadata": {},
   "outputs": [
    {
     "data": {
      "text/plain": [
       "[(EDIF_20,6367.870000000003), (EDIF_16,4179.874999999503), (EDIF_15,3045.9600000001237), (EDIF_7,1807.7299999998027), (EDIF_17,1219.489999999943), (EDIF_3,952.7199999999352), (EDIF_36,925.799999999867), (EDIF_1_CAFETERI,709.8699999999867), (EDIF_1,709.8699999999565), (EDIF_10,628.2499999999555), (EDIF_11,527.4899999999997), (EDIF_6,479.7899999999386), (EDIF_4,472.3299999999401), (EDIF_32,401.42999999994436), (EDIF_12,396.7199999999699), (EDIF_21,387.07199999997704), (EDIF_2,369.8799999999802), (EDIF_8,348.9499999999779), (EDIF_17_COMEDOR,344.9100000000061), (EDIF_43,337.2699999999959), (EDIF_14,301.39999999999054), (EDIF_5,279.1200000000026), (EDIF_18_KIOSCO,182.85000000000474), (EDIF_44,163.3200000000034), (EDIF_13,126.06000000000282), (EDIF_31,90.3800000000023), (EDIF_42,6.159999999999988), (EDIF_45,0.0)]"
      ]
     },
     "execution_count": 53,
     "metadata": {},
     "output_type": "execute_result"
    }
   ],
   "source": [
    "total_agua_por_edif_SIN.take(28)"
   ]
  },
  {
   "cell_type": "code",
   "execution_count": 54,
   "metadata": {},
   "outputs": [
    {
     "data": {
      "text/plain": [
       "agua_ficticios = MapPartitionsRDD[77] at map at <console>:35\n"
      ]
     },
     "metadata": {},
     "output_type": "display_data"
    },
    {
     "data": {
      "text/plain": [
       "MapPartitionsRDD[77] at map at <console>:35"
      ]
     },
     "execution_count": 54,
     "metadata": {},
     "output_type": "execute_result"
    }
   ],
   "source": [
    "val agua_ficticios = d_ficticios.map(x => (x(0), x(1)))"
   ]
  },
  {
   "cell_type": "code",
   "execution_count": 55,
   "metadata": {},
   "outputs": [
    {
     "data": {
      "text/plain": [
       "[(EDIF_1,Direccion upo-1), (EDIF_1_CAFETERI,Direccion upo-1), (EDIF_10,Direccion upo-1), (EDIF_11,Direccion upo-1), (EDIF_12,Direccion upo-1), (EDIF_13,Direccion upo-1), (EDIF_14,Direccion upo-1), (EDIF_15,Direccion upo-1), (EDIF_16,Direccion upo-1), (EDIF_17,Direccion upo-1), (EDIF_17_COMEDOR,Direccion upo-1), (EDIF_18_KIOSCO,Direccion upo-1), (EDIF_2,Direccion upo-2), (EDIF_20,Direccion upo-2), (EDIF_21,Direccion upo-2), (EDIF_3,Direccion upo-3), (EDIF_31,Direccion upo-3), (EDIF_32,Direccion upo-3), (EDIF_36,Direccion upo-3), (EDIF_4,Direccion upo-4), (EDIF_42,Direccion upo-4), (EDIF_43,Direccion upo-4), (EDIF_44,Direccion upo-4), (EDIF_45,Direccion upo-4), (EDIF_5,Direccion upo-5), (EDIF_6,Direccion upo-6), (EDIF_7,Direccion upo-7), (EDIF_8,Direccion upo-8)]"
      ]
     },
     "execution_count": 55,
     "metadata": {},
     "output_type": "execute_result"
    }
   ],
   "source": [
    "agua_ficticios.take(28)"
   ]
  },
  {
   "cell_type": "code",
   "execution_count": 56,
   "metadata": {},
   "outputs": [
    {
     "data": {
      "text/plain": [
       "union_agua_ficticios = MapPartitionsRDD[80] at join at <console>:49\n"
      ]
     },
     "metadata": {},
     "output_type": "display_data"
    },
    {
     "data": {
      "text/plain": [
       "MapPartitionsRDD[80] at join at <console>:49"
      ]
     },
     "execution_count": 56,
     "metadata": {},
     "output_type": "execute_result"
    }
   ],
   "source": [
    "val union_agua_ficticios =  total_agua_por_edif_SIN.join(agua_ficticios)"
   ]
  },
  {
   "cell_type": "code",
   "execution_count": 57,
   "metadata": {},
   "outputs": [
    {
     "data": {
      "text/plain": [
       "[(EDIF_17_COMEDOR,(344.9100000000061,Direccion upo-1)), (EDIF_18_KIOSCO,(182.85000000000474,Direccion upo-1)), (EDIF_21,(387.07199999997704,Direccion upo-2)), (EDIF_2,(369.8799999999802,Direccion upo-2)), (EDIF_3,(952.7199999999352,Direccion upo-3))]"
      ]
     },
     "execution_count": 57,
     "metadata": {},
     "output_type": "execute_result"
    }
   ],
   "source": [
    "union_agua_ficticios.take(5)"
   ]
  },
  {
   "cell_type": "code",
   "execution_count": 58,
   "metadata": {},
   "outputs": [
    {
     "data": {
      "text/plain": [
       "agua_direccion = MapPartitionsRDD[81] at map at <console>:51\n"
      ]
     },
     "metadata": {},
     "output_type": "display_data"
    },
    {
     "data": {
      "text/plain": [
       "MapPartitionsRDD[81] at map at <console>:51"
      ]
     },
     "execution_count": 58,
     "metadata": {},
     "output_type": "execute_result"
    }
   ],
   "source": [
    "val agua_direccion = union_agua_ficticios.map(x=> (( x._2 ).toString.split( \",\" )))"
   ]
  },
  {
   "cell_type": "code",
   "execution_count": 59,
   "metadata": {},
   "outputs": [
    {
     "data": {
      "text/plain": [
       "[[(344.9100000000061, Direccion upo-1)], [(182.85000000000474, Direccion upo-1)], [(387.07199999997704, Direccion upo-2)], [(369.8799999999802, Direccion upo-2)], [(952.7199999999352, Direccion upo-3)], [(925.799999999867, Direccion upo-3)], [(628.2499999999555, Direccion upo-1)], [(472.3299999999401, Direccion upo-4)], [(527.4899999999997, Direccion upo-1)], [(279.1200000000026, Direccion upo-5)], [(479.7899999999386, Direccion upo-6)], [(396.7199999999699, Direccion upo-1)], [(126.06000000000282, Direccion upo-1)], [(1807.7299999998027, Direccion upo-7)], [(301.39999999999054, Direccion upo-1)], [(348.9499999999779, Direccion upo-8)], [(3045.9600000001237, Direccion upo-1)], [(4179.874999999503, Direccion upo-1)], [(1219.489999999943, Direccion upo-1)], [(709.8699999999867, Direccion upo-1)], [(6.159999999999988, Direccion upo-4)], [(337.2699999999959, Direccion upo-4)], [(90.3800000000023, Direccion upo-3)], [(163.3200000000034, Direccion upo-4)], [(401.42999999994436, Direccion upo-3)], [(0.0, Direccion upo-4)], [(6367.870000000003, Direccion upo-2)], [(709.8699999999565, Direccion upo-1)]]"
      ]
     },
     "execution_count": 59,
     "metadata": {},
     "output_type": "execute_result"
    }
   ],
   "source": [
    "agua_direccion.take(28)"
   ]
  },
  {
   "cell_type": "markdown",
   "metadata": {},
   "source": [
    "Se aprecia como devuelve los datos  metidos entre [( )], los cuales hay que eliminarlos para agrupar por direccion "
   ]
  },
  {
   "cell_type": "markdown",
   "metadata": {},
   "source": [
    "Además, se cambia la posición para tener como id la dirección y el consumo se pasa a decimal"
   ]
  },
  {
   "cell_type": "code",
   "execution_count": 60,
   "metadata": {},
   "outputs": [
    {
     "data": {
      "text/plain": [
       "agua_direc = MapPartitionsRDD[82] at map at <console>:53\n"
      ]
     },
     "metadata": {},
     "output_type": "display_data"
    },
    {
     "data": {
      "text/plain": [
       "MapPartitionsRDD[82] at map at <console>:53"
      ]
     },
     "execution_count": 60,
     "metadata": {},
     "output_type": "execute_result"
    }
   ],
   "source": [
    "val agua_direc = agua_direccion.map(x => ( x(1).replace( \")\" , \"\" ) , x(0).replace( \"(\" , \"\" ).toDouble))"
   ]
  },
  {
   "cell_type": "code",
   "execution_count": 61,
   "metadata": {},
   "outputs": [
    {
     "data": {
      "text/plain": [
       "[(Direccion upo-1,344.9100000000061), (Direccion upo-1,182.85000000000474), (Direccion upo-2,387.07199999997704), (Direccion upo-2,369.8799999999802), (Direccion upo-3,952.7199999999352)]"
      ]
     },
     "execution_count": 61,
     "metadata": {},
     "output_type": "execute_result"
    }
   ],
   "source": [
    "agua_direc.take(5)"
   ]
  },
  {
   "cell_type": "code",
   "execution_count": 62,
   "metadata": {},
   "outputs": [
    {
     "data": {
      "text/plain": [
       "MapPartitionsRDD[87] at sortBy at <console>:56"
      ]
     },
     "execution_count": 62,
     "metadata": {},
     "output_type": "execute_result"
    }
   ],
   "source": [
    "agua_direc.sortBy(_._2,false)"
   ]
  },
  {
   "cell_type": "code",
   "execution_count": 63,
   "metadata": {},
   "outputs": [
    {
     "data": {
      "text/plain": [
       "[(Direccion upo-1,344.9100000000061), (Direccion upo-1,182.85000000000474), (Direccion upo-2,387.07199999997704), (Direccion upo-2,369.8799999999802), (Direccion upo-3,952.7199999999352), (Direccion upo-3,925.799999999867), (Direccion upo-1,628.2499999999555), (Direccion upo-4,472.3299999999401), (Direccion upo-1,527.4899999999997), (Direccion upo-5,279.1200000000026), (Direccion upo-6,479.7899999999386), (Direccion upo-1,396.7199999999699), (Direccion upo-1,126.06000000000282), (Direccion upo-7,1807.7299999998027), (Direccion upo-1,301.39999999999054), (Direccion upo-8,348.9499999999779), (Direccion upo-1,3045.9600000001237), (Direccion upo-1,4179.874999999503), (Direccion upo-1,1219.489999999943), (Direccion upo-1,709.8699999999867), (Direccion upo-4,6.159999999999988), (Direccion upo-4,337.2699999999959), (Direccion upo-3,90.3800000000023), (Direccion upo-4,163.3200000000034), (Direccion upo-3,401.42999999994436), (Direccion upo-4,0.0), (Direccion upo-2,6367.870000000003), (Direccion upo-1,709.8699999999565)]"
      ]
     },
     "execution_count": 63,
     "metadata": {},
     "output_type": "execute_result"
    }
   ],
   "source": [
    "agua_direc.take(28)"
   ]
  },
  {
   "cell_type": "markdown",
   "metadata": {},
   "source": [
    "Finalmente para obtener el sumatorio por clave se aplica una reduccion por clave, que ahora sí es la direccion "
   ]
  },
  {
   "cell_type": "code",
   "execution_count": 64,
   "metadata": {},
   "outputs": [
    {
     "data": {
      "text/plain": [
       "sumatorio = MapPartitionsRDD[93] at sortBy at <console>:55\n"
      ]
     },
     "metadata": {},
     "output_type": "display_data"
    },
    {
     "data": {
      "text/plain": [
       "MapPartitionsRDD[93] at sortBy at <console>:55"
      ]
     },
     "execution_count": 64,
     "metadata": {},
     "output_type": "execute_result"
    }
   ],
   "source": [
    "val sumatorio = agua_direc.reduceByKey((v1,v2)=> v1+v2).sortBy(_._2,false)"
   ]
  },
  {
   "cell_type": "code",
   "execution_count": 65,
   "metadata": {},
   "outputs": [
    {
     "data": {
      "text/plain": [
       "[(Direccion upo-1,12372.744999999442), (Direccion upo-2,7124.82199999996), (Direccion upo-3,2370.329999999749), (Direccion upo-7,1807.7299999998027), (Direccion upo-4,979.0799999999394), (Direccion upo-6,479.7899999999386), (Direccion upo-8,348.9499999999779), (Direccion upo-5,279.1200000000026)]"
      ]
     },
     "execution_count": 65,
     "metadata": {},
     "output_type": "execute_result"
    }
   ],
   "source": [
    "sumatorio.take(28)"
   ]
  },
  {
   "cell_type": "markdown",
   "metadata": {},
   "source": [
    "De igual manera se podría llevar a cabo el análisis de diferentes estadísticas por dirección, pero al ser solamente 8 direcciones y además intentar no ser redundante, decido que no tiene relevancia calcular un máximo o mínimo en este caso"
   ]
  },
  {
   "cell_type": "markdown",
   "metadata": {},
   "source": [
    "<a id=\"2.3.1\"></a>\n",
    "### *2. 3. 1 Datos ficticios union con electricidad*"
   ]
  },
  {
   "cell_type": "code",
   "execution_count": 66,
   "metadata": {},
   "outputs": [
    {
     "data": {
      "text/plain": [
       "elec_sin_ = MapPartitionsRDD[94] at map at <console>:29\n"
      ]
     },
     "metadata": {},
     "output_type": "display_data"
    },
    {
     "data": {
      "text/plain": [
       "MapPartitionsRDD[94] at map at <console>:29"
      ]
     },
     "execution_count": 66,
     "metadata": {},
     "output_type": "execute_result"
    }
   ],
   "source": [
    "val elec_sin_ = Datos_electricidad.map(x => x.replace( \"ELEC_\", \"\" ))"
   ]
  },
  {
   "cell_type": "code",
   "execution_count": 67,
   "metadata": {},
   "outputs": [
    {
     "data": {
      "text/plain": [
       "elec_edif_sin = MapPartitionsRDD[95] at map at <console>:31\n"
      ]
     },
     "metadata": {},
     "output_type": "display_data"
    },
    {
     "data": {
      "text/plain": [
       "MapPartitionsRDD[95] at map at <console>:31"
      ]
     },
     "execution_count": 67,
     "metadata": {},
     "output_type": "execute_result"
    }
   ],
   "source": [
    "val elec_edif_sin = elec_sin_.map(x => x.split(\";\")).cache"
   ]
  },
  {
   "cell_type": "code",
   "execution_count": 68,
   "metadata": {},
   "outputs": [
    {
     "data": {
      "text/plain": [
       "[[EDIF_1, 1.354, 2013, 01, 01, 00, 00], [EDIF_1, 1.521, 2013, 01, 01, 00, 15], [EDIF_1, 1.239, 2013, 01, 01, 00, 30], [EDIF_1, 1.347, 2013, 01, 01, 00, 45], [EDIF_1, 1.3, 2013, 01, 01, 01, 00], [EDIF_1, 1.695, 2013, 01, 01, 01, 15], [EDIF_1, 1.577, 2013, 01, 01, 01, 30], [EDIF_1, 1.288, 2013, 01, 01, 01, 45], [EDIF_1, 1.607, 2013, 01, 01, 02, 00], [EDIF_1, 1.448, 2013, 01, 01, 02, 15]]"
      ]
     },
     "execution_count": 68,
     "metadata": {},
     "output_type": "execute_result"
    }
   ],
   "source": [
    "elec_edif_sin.take(10)"
   ]
  },
  {
   "cell_type": "code",
   "execution_count": 69,
   "metadata": {},
   "outputs": [
    {
     "data": {
      "text/plain": [
       "elec_edif_sin_N_UPO = MapPartitionsRDD[96] at filter at <console>:33\n"
      ]
     },
     "metadata": {},
     "output_type": "display_data"
    },
    {
     "data": {
      "text/plain": [
       "MapPartitionsRDD[96] at filter at <console>:33"
      ]
     },
     "execution_count": 69,
     "metadata": {},
     "output_type": "execute_result"
    }
   ],
   "source": [
    "val elec_edif_sin_N_UPO = elec_edif_sin.filter(x=>(x(0)!=\"UPO\"))"
   ]
  },
  {
   "cell_type": "code",
   "execution_count": 70,
   "metadata": {},
   "outputs": [
    {
     "data": {
      "text/plain": [
       "elec_por_edifi_SIN = MapPartitionsRDD[97] at map at <console>:35\n"
      ]
     },
     "metadata": {},
     "output_type": "display_data"
    },
    {
     "data": {
      "text/plain": [
       "MapPartitionsRDD[97] at map at <console>:35"
      ]
     },
     "execution_count": 70,
     "metadata": {},
     "output_type": "execute_result"
    }
   ],
   "source": [
    "val elec_por_edifi_SIN = elec_edif_sin_N_UPO.map(x => (x(0),x(1).toDouble))"
   ]
  },
  {
   "cell_type": "code",
   "execution_count": 71,
   "metadata": {},
   "outputs": [
    {
     "data": {
      "text/plain": [
       "total_elec_por_edif_SIN = MapPartitionsRDD[103] at sortBy at <console>:37\n"
      ]
     },
     "metadata": {},
     "output_type": "display_data"
    },
    {
     "data": {
      "text/plain": [
       "MapPartitionsRDD[103] at sortBy at <console>:37"
      ]
     },
     "execution_count": 71,
     "metadata": {},
     "output_type": "execute_result"
    }
   ],
   "source": [
    "val total_elec_por_edif_SIN = elec_por_edifi_SIN.reduceByKey((v1,v2)=> v1+v2).sortBy(_._2,false)"
   ]
  },
  {
   "cell_type": "code",
   "execution_count": 72,
   "metadata": {},
   "outputs": [
    {
     "data": {
      "text/plain": [
       "[(EDIF_20,1625734.7639999923), (EDIF_21,579830.630000001), (EDIF_45,285486.19299999875), (EDIF_7,266688.74300000095), (EDIF_15,263737.3690000025), (EDIF_14,252734.938999999), (EDIF_10,224691.37899999702), (EDIF_2,218905.90800000125), (EDIF_17,213318.15800000192), (EDIF_11,195154.23400000075), (EDIF_3,173988.7100000009), (EDIF_32,160687.17600000033), (EDIF_1,143819.20200000048), (EDIF_6,135623.20599999957), (EDIF_1_CAFETERI,123496.3539999999), (EDIF_44,105796.46400000073), (EDIF_12,82013.96899999982), (EDIF_17_COMEDOR,79210.64399999977), (EDIF_31,57470.26199999967), (EDIF_8,53756.02600000007), (EDIF_5,41959.54400000007), (EDIF_4,35481.169000000176), (EDIF_18_KIOSCO,30028.251000000007), (EDIF_13,27464.337000000156), (EDIF_16,23105.5220000001), (EDIF_36,9568.368000000246), (EDIF_43,7829.521000000384), (EDIF_42,6325.0609999988665)]"
      ]
     },
     "execution_count": 72,
     "metadata": {},
     "output_type": "execute_result"
    }
   ],
   "source": [
    "total_elec_por_edif_SIN.take(28)"
   ]
  },
  {
   "cell_type": "code",
   "execution_count": 73,
   "metadata": {},
   "outputs": [
    {
     "data": {
      "text/plain": [
       "elec_ficticios = MapPartitionsRDD[104] at map at <console>:35\n"
      ]
     },
     "metadata": {},
     "output_type": "display_data"
    },
    {
     "data": {
      "text/plain": [
       "MapPartitionsRDD[104] at map at <console>:35"
      ]
     },
     "execution_count": 73,
     "metadata": {},
     "output_type": "execute_result"
    }
   ],
   "source": [
    "val elec_ficticios = d_ficticios.map(x => (x(0), x(1)))"
   ]
  },
  {
   "cell_type": "code",
   "execution_count": 74,
   "metadata": {},
   "outputs": [
    {
     "data": {
      "text/plain": [
       "[(EDIF_1,Direccion upo-1), (EDIF_1_CAFETERI,Direccion upo-1), (EDIF_10,Direccion upo-1)]"
      ]
     },
     "execution_count": 74,
     "metadata": {},
     "output_type": "execute_result"
    }
   ],
   "source": [
    "elec_ficticios.take(3)"
   ]
  },
  {
   "cell_type": "code",
   "execution_count": 75,
   "metadata": {},
   "outputs": [
    {
     "data": {
      "text/plain": [
       "union_elec_ficticios = MapPartitionsRDD[107] at join at <console>:49\n"
      ]
     },
     "metadata": {},
     "output_type": "display_data"
    },
    {
     "data": {
      "text/plain": [
       "MapPartitionsRDD[107] at join at <console>:49"
      ]
     },
     "execution_count": 75,
     "metadata": {},
     "output_type": "execute_result"
    }
   ],
   "source": [
    "val union_elec_ficticios =  total_elec_por_edif_SIN.join(agua_ficticios)"
   ]
  },
  {
   "cell_type": "code",
   "execution_count": 76,
   "metadata": {},
   "outputs": [
    {
     "data": {
      "text/plain": [
       "[(EDIF_45,(285486.19299999875,Direccion upo-4)), (EDIF_31,(57470.26199999967,Direccion upo-3)), (EDIF_18_KIOSCO,(30028.251000000007,Direccion upo-1)), (EDIF_32,(160687.17600000033,Direccion upo-3)), (EDIF_17_COMEDOR,(79210.64399999977,Direccion upo-1))]"
      ]
     },
     "execution_count": 76,
     "metadata": {},
     "output_type": "execute_result"
    }
   ],
   "source": [
    "union_elec_ficticios.take(5)"
   ]
  },
  {
   "cell_type": "code",
   "execution_count": 77,
   "metadata": {},
   "outputs": [
    {
     "data": {
      "text/plain": [
       "elec_direccion = MapPartitionsRDD[108] at map at <console>:51\n"
      ]
     },
     "metadata": {},
     "output_type": "display_data"
    },
    {
     "data": {
      "text/plain": [
       "MapPartitionsRDD[108] at map at <console>:51"
      ]
     },
     "execution_count": 77,
     "metadata": {},
     "output_type": "execute_result"
    }
   ],
   "source": [
    "val elec_direccion = union_elec_ficticios.map(x=> (( x._2 ).toString.split( \",\" )))"
   ]
  },
  {
   "cell_type": "code",
   "execution_count": 78,
   "metadata": {},
   "outputs": [
    {
     "data": {
      "text/plain": [
       "[[(285486.19299999875, Direccion upo-4)], [(57470.26199999967, Direccion upo-3)], [(30028.251000000007, Direccion upo-1)], [(160687.17600000033, Direccion upo-3)], [(79210.64399999977, Direccion upo-1)]]"
      ]
     },
     "execution_count": 78,
     "metadata": {},
     "output_type": "execute_result"
    }
   ],
   "source": [
    "elec_direccion.take(5)"
   ]
  },
  {
   "cell_type": "markdown",
   "metadata": {},
   "source": [
    "Se lleva a cabo el mismo proceso que antes, se aprecia como devuelve los datos metidos entre [( )], los cuales hay que eliminarlos para agrupar por direccion. Además, se cambia la posición para tener como id la dirección y el consumo se pasa a decimal"
   ]
  },
  {
   "cell_type": "code",
   "execution_count": 79,
   "metadata": {},
   "outputs": [
    {
     "data": {
      "text/plain": [
       "elec_direc = MapPartitionsRDD[109] at map at <console>:53\n"
      ]
     },
     "metadata": {},
     "output_type": "display_data"
    },
    {
     "data": {
      "text/plain": [
       "MapPartitionsRDD[109] at map at <console>:53"
      ]
     },
     "execution_count": 79,
     "metadata": {},
     "output_type": "execute_result"
    }
   ],
   "source": [
    "val elec_direc = elec_direccion.map(x => ( x(1).replace( \")\" , \"\" ) , x(0).replace( \"(\" , \"\" ).toDouble))"
   ]
  },
  {
   "cell_type": "code",
   "execution_count": 80,
   "metadata": {},
   "outputs": [
    {
     "data": {
      "text/plain": [
       "MapPartitionsRDD[114] at sortBy at <console>:56"
      ]
     },
     "execution_count": 80,
     "metadata": {},
     "output_type": "execute_result"
    }
   ],
   "source": [
    "elec_direc.sortBy(_._2,false)"
   ]
  },
  {
   "cell_type": "code",
   "execution_count": 81,
   "metadata": {},
   "outputs": [
    {
     "data": {
      "text/plain": [
       "[(Direccion upo-4,285486.19299999875), (Direccion upo-3,57470.26199999967), (Direccion upo-1,30028.251000000007), (Direccion upo-3,160687.17600000033), (Direccion upo-1,79210.64399999977), (Direccion upo-2,1625734.7639999923), (Direccion upo-3,9568.368000000246), (Direccion upo-2,579830.630000001), (Direccion upo-1,224691.37899999702), (Direccion upo-1,143819.20200000048), (Direccion upo-1,195154.23400000075), (Direccion upo-2,218905.90800000125), (Direccion upo-3,173988.7100000009), (Direccion upo-1,82013.96899999982), (Direccion upo-1,27464.337000000156), (Direccion upo-4,35481.169000000176), (Direccion upo-1,252734.938999999), (Direccion upo-5,41959.54400000007), (Direccion upo-1,263737.3690000025), (Direccion upo-6,135623.20599999957), (Direccion upo-4,6325.0609999988665), (Direccion upo-7,266688.74300000095), (Direccion upo-1,23105.5220000001), (Direccion upo-1,123496.3539999999), (Direccion upo-4,7829.521000000384), (Direccion upo-1,213318.15800000192), (Direccion upo-8,53756.02600000007), (Direccion upo-4,105796.46400000073)]"
      ]
     },
     "execution_count": 81,
     "metadata": {},
     "output_type": "execute_result"
    }
   ],
   "source": [
    "elec_direc.take(28)"
   ]
  },
  {
   "cell_type": "code",
   "execution_count": 82,
   "metadata": {},
   "outputs": [
    {
     "data": {
      "text/plain": [
       "sumatorio2 = MapPartitionsRDD[120] at sortBy at <console>:55\n"
      ]
     },
     "metadata": {},
     "output_type": "display_data"
    },
    {
     "data": {
      "text/plain": [
       "MapPartitionsRDD[120] at sortBy at <console>:55"
      ]
     },
     "execution_count": 82,
     "metadata": {},
     "output_type": "execute_result"
    }
   ],
   "source": [
    "val sumatorio2 = elec_direc.reduceByKey((v1,v2)=> v1+v2).sortBy(_._2,false)"
   ]
  },
  {
   "cell_type": "code",
   "execution_count": 83,
   "metadata": {},
   "outputs": [
    {
     "data": {
      "text/plain": [
       "[(Direccion upo-2,2424471.3019999946), (Direccion upo-1,1658774.3580000014), (Direccion upo-4,440918.4079999989), (Direccion upo-3,401714.5160000011), (Direccion upo-7,266688.74300000095), (Direccion upo-6,135623.20599999957), (Direccion upo-8,53756.02600000007), (Direccion upo-5,41959.54400000007)]"
      ]
     },
     "execution_count": 83,
     "metadata": {},
     "output_type": "execute_result"
    }
   ],
   "source": [
    "sumatorio2.take(28)"
   ]
  },
  {
   "cell_type": "markdown",
   "metadata": {},
   "source": [
    "De igual manera se podría llevar a cabo el análisis de diferentes estadísticas por dirección, pero al ser solamente 8 direcciones y además intentar no ser redundante, decido que no tiene relevancia calcular un máximo o mínimo en este caso"
   ]
  }
 ],
 "metadata": {
  "kernelspec": {
   "display_name": "Spark - Scala",
   "language": "scala",
   "name": "spark_scala"
  },
  "language_info": {
   "codemirror_mode": "text/x-scala",
   "file_extension": ".scala",
   "mimetype": "text/x-scala",
   "name": "scala",
   "pygments_lexer": "scala",
   "version": "2.11.8"
  }
 },
 "nbformat": 4,
 "nbformat_minor": 2
}
